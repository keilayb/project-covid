{
 "cells": [
  {
   "cell_type": "code",
   "execution_count": 1,
   "metadata": {},
   "outputs": [],
   "source": [
    "import numpy as np\n",
    "import pandas as pd"
   ]
  },
  {
   "cell_type": "code",
   "execution_count": 2,
   "metadata": {
    "scrolled": true
   },
   "outputs": [
    {
     "data": {
      "text/html": [
       "<div>\n",
       "<style scoped>\n",
       "    .dataframe tbody tr th:only-of-type {\n",
       "        vertical-align: middle;\n",
       "    }\n",
       "\n",
       "    .dataframe tbody tr th {\n",
       "        vertical-align: top;\n",
       "    }\n",
       "\n",
       "    .dataframe thead th {\n",
       "        text-align: right;\n",
       "    }\n",
       "</style>\n",
       "<table border=\"1\" class=\"dataframe\">\n",
       "  <thead>\n",
       "    <tr style=\"text-align: right;\">\n",
       "      <th></th>\n",
       "      <th>FECHA_ACTUALIZACION</th>\n",
       "      <th>ID_REGISTRO</th>\n",
       "      <th>ORIGEN</th>\n",
       "      <th>SECTOR</th>\n",
       "      <th>ENTIDAD_UM</th>\n",
       "      <th>SEXO</th>\n",
       "      <th>ENTIDAD_NAC</th>\n",
       "      <th>ENTIDAD_RES</th>\n",
       "      <th>MUNICIPIO_RES</th>\n",
       "      <th>TIPO_PACIENTE</th>\n",
       "      <th>...</th>\n",
       "      <th>OTRO_CASO</th>\n",
       "      <th>TOMA_MUESTRA_LAB</th>\n",
       "      <th>RESULTADO_LAB</th>\n",
       "      <th>TOMA_MUESTRA_ANTIGENO</th>\n",
       "      <th>RESULTADO_ANTIGENO</th>\n",
       "      <th>CLASIFICACION_FINAL</th>\n",
       "      <th>MIGRANTE</th>\n",
       "      <th>PAIS_NACIONALIDAD</th>\n",
       "      <th>PAIS_ORIGEN</th>\n",
       "      <th>UCI</th>\n",
       "    </tr>\n",
       "  </thead>\n",
       "  <tbody>\n",
       "    <tr>\n",
       "      <th>0</th>\n",
       "      <td>2021-01-19</td>\n",
       "      <td>1474bf</td>\n",
       "      <td>2</td>\n",
       "      <td>9</td>\n",
       "      <td>9</td>\n",
       "      <td>1</td>\n",
       "      <td>9</td>\n",
       "      <td>15</td>\n",
       "      <td>106</td>\n",
       "      <td>1</td>\n",
       "      <td>...</td>\n",
       "      <td>99</td>\n",
       "      <td>1</td>\n",
       "      <td>1</td>\n",
       "      <td>2</td>\n",
       "      <td>97</td>\n",
       "      <td>3</td>\n",
       "      <td>99</td>\n",
       "      <td>MÃ©xico</td>\n",
       "      <td>97</td>\n",
       "      <td>97</td>\n",
       "    </tr>\n",
       "    <tr>\n",
       "      <th>1</th>\n",
       "      <td>2021-01-19</td>\n",
       "      <td>2af09a</td>\n",
       "      <td>2</td>\n",
       "      <td>12</td>\n",
       "      <td>9</td>\n",
       "      <td>2</td>\n",
       "      <td>9</td>\n",
       "      <td>9</td>\n",
       "      <td>14</td>\n",
       "      <td>1</td>\n",
       "      <td>...</td>\n",
       "      <td>1</td>\n",
       "      <td>1</td>\n",
       "      <td>1</td>\n",
       "      <td>2</td>\n",
       "      <td>97</td>\n",
       "      <td>3</td>\n",
       "      <td>99</td>\n",
       "      <td>MÃ©xico</td>\n",
       "      <td>97</td>\n",
       "      <td>97</td>\n",
       "    </tr>\n",
       "    <tr>\n",
       "      <th>2</th>\n",
       "      <td>2021-01-19</td>\n",
       "      <td>063865</td>\n",
       "      <td>1</td>\n",
       "      <td>4</td>\n",
       "      <td>9</td>\n",
       "      <td>1</td>\n",
       "      <td>9</td>\n",
       "      <td>9</td>\n",
       "      <td>14</td>\n",
       "      <td>2</td>\n",
       "      <td>...</td>\n",
       "      <td>99</td>\n",
       "      <td>1</td>\n",
       "      <td>1</td>\n",
       "      <td>2</td>\n",
       "      <td>97</td>\n",
       "      <td>3</td>\n",
       "      <td>99</td>\n",
       "      <td>MÃ©xico</td>\n",
       "      <td>97</td>\n",
       "      <td>2</td>\n",
       "    </tr>\n",
       "    <tr>\n",
       "      <th>3</th>\n",
       "      <td>2021-01-19</td>\n",
       "      <td>1549d7</td>\n",
       "      <td>2</td>\n",
       "      <td>4</td>\n",
       "      <td>9</td>\n",
       "      <td>2</td>\n",
       "      <td>9</td>\n",
       "      <td>30</td>\n",
       "      <td>102</td>\n",
       "      <td>2</td>\n",
       "      <td>...</td>\n",
       "      <td>99</td>\n",
       "      <td>1</td>\n",
       "      <td>1</td>\n",
       "      <td>2</td>\n",
       "      <td>97</td>\n",
       "      <td>3</td>\n",
       "      <td>99</td>\n",
       "      <td>MÃ©xico</td>\n",
       "      <td>97</td>\n",
       "      <td>2</td>\n",
       "    </tr>\n",
       "    <tr>\n",
       "      <th>4</th>\n",
       "      <td>2021-01-19</td>\n",
       "      <td>054e2e</td>\n",
       "      <td>2</td>\n",
       "      <td>12</td>\n",
       "      <td>9</td>\n",
       "      <td>2</td>\n",
       "      <td>15</td>\n",
       "      <td>15</td>\n",
       "      <td>20</td>\n",
       "      <td>1</td>\n",
       "      <td>...</td>\n",
       "      <td>2</td>\n",
       "      <td>1</td>\n",
       "      <td>1</td>\n",
       "      <td>2</td>\n",
       "      <td>97</td>\n",
       "      <td>3</td>\n",
       "      <td>99</td>\n",
       "      <td>MÃ©xico</td>\n",
       "      <td>97</td>\n",
       "      <td>97</td>\n",
       "    </tr>\n",
       "    <tr>\n",
       "      <th>...</th>\n",
       "      <td>...</td>\n",
       "      <td>...</td>\n",
       "      <td>...</td>\n",
       "      <td>...</td>\n",
       "      <td>...</td>\n",
       "      <td>...</td>\n",
       "      <td>...</td>\n",
       "      <td>...</td>\n",
       "      <td>...</td>\n",
       "      <td>...</td>\n",
       "      <td>...</td>\n",
       "      <td>...</td>\n",
       "      <td>...</td>\n",
       "      <td>...</td>\n",
       "      <td>...</td>\n",
       "      <td>...</td>\n",
       "      <td>...</td>\n",
       "      <td>...</td>\n",
       "      <td>...</td>\n",
       "      <td>...</td>\n",
       "      <td>...</td>\n",
       "    </tr>\n",
       "    <tr>\n",
       "      <th>4190180</th>\n",
       "      <td>2021-01-19</td>\n",
       "      <td>263aac</td>\n",
       "      <td>2</td>\n",
       "      <td>12</td>\n",
       "      <td>9</td>\n",
       "      <td>2</td>\n",
       "      <td>32</td>\n",
       "      <td>9</td>\n",
       "      <td>15</td>\n",
       "      <td>1</td>\n",
       "      <td>...</td>\n",
       "      <td>1</td>\n",
       "      <td>2</td>\n",
       "      <td>97</td>\n",
       "      <td>1</td>\n",
       "      <td>2</td>\n",
       "      <td>7</td>\n",
       "      <td>99</td>\n",
       "      <td>MÃ©xico</td>\n",
       "      <td>97</td>\n",
       "      <td>97</td>\n",
       "    </tr>\n",
       "    <tr>\n",
       "      <th>4190181</th>\n",
       "      <td>2021-01-19</td>\n",
       "      <td>27986f</td>\n",
       "      <td>1</td>\n",
       "      <td>12</td>\n",
       "      <td>14</td>\n",
       "      <td>1</td>\n",
       "      <td>14</td>\n",
       "      <td>14</td>\n",
       "      <td>39</td>\n",
       "      <td>1</td>\n",
       "      <td>...</td>\n",
       "      <td>1</td>\n",
       "      <td>2</td>\n",
       "      <td>97</td>\n",
       "      <td>1</td>\n",
       "      <td>1</td>\n",
       "      <td>3</td>\n",
       "      <td>99</td>\n",
       "      <td>MÃ©xico</td>\n",
       "      <td>97</td>\n",
       "      <td>97</td>\n",
       "    </tr>\n",
       "    <tr>\n",
       "      <th>4190182</th>\n",
       "      <td>2021-01-19</td>\n",
       "      <td>43bb72</td>\n",
       "      <td>2</td>\n",
       "      <td>12</td>\n",
       "      <td>9</td>\n",
       "      <td>1</td>\n",
       "      <td>9</td>\n",
       "      <td>9</td>\n",
       "      <td>12</td>\n",
       "      <td>1</td>\n",
       "      <td>...</td>\n",
       "      <td>1</td>\n",
       "      <td>2</td>\n",
       "      <td>97</td>\n",
       "      <td>1</td>\n",
       "      <td>2</td>\n",
       "      <td>7</td>\n",
       "      <td>99</td>\n",
       "      <td>MÃ©xico</td>\n",
       "      <td>97</td>\n",
       "      <td>97</td>\n",
       "    </tr>\n",
       "    <tr>\n",
       "      <th>4190183</th>\n",
       "      <td>2021-01-19</td>\n",
       "      <td>3d52a3</td>\n",
       "      <td>2</td>\n",
       "      <td>12</td>\n",
       "      <td>9</td>\n",
       "      <td>2</td>\n",
       "      <td>9</td>\n",
       "      <td>9</td>\n",
       "      <td>10</td>\n",
       "      <td>1</td>\n",
       "      <td>...</td>\n",
       "      <td>1</td>\n",
       "      <td>2</td>\n",
       "      <td>97</td>\n",
       "      <td>1</td>\n",
       "      <td>2</td>\n",
       "      <td>1</td>\n",
       "      <td>99</td>\n",
       "      <td>MÃ©xico</td>\n",
       "      <td>97</td>\n",
       "      <td>97</td>\n",
       "    </tr>\n",
       "    <tr>\n",
       "      <th>4190184</th>\n",
       "      <td>2021-01-19</td>\n",
       "      <td>2b51d4</td>\n",
       "      <td>1</td>\n",
       "      <td>12</td>\n",
       "      <td>9</td>\n",
       "      <td>2</td>\n",
       "      <td>9</td>\n",
       "      <td>9</td>\n",
       "      <td>10</td>\n",
       "      <td>1</td>\n",
       "      <td>...</td>\n",
       "      <td>1</td>\n",
       "      <td>2</td>\n",
       "      <td>97</td>\n",
       "      <td>1</td>\n",
       "      <td>2</td>\n",
       "      <td>7</td>\n",
       "      <td>99</td>\n",
       "      <td>MÃ©xico</td>\n",
       "      <td>97</td>\n",
       "      <td>97</td>\n",
       "    </tr>\n",
       "  </tbody>\n",
       "</table>\n",
       "<p>4190185 rows × 40 columns</p>\n",
       "</div>"
      ],
      "text/plain": [
       "        FECHA_ACTUALIZACION ID_REGISTRO  ORIGEN  SECTOR  ENTIDAD_UM  SEXO  \\\n",
       "0                2021-01-19      1474bf       2       9           9     1   \n",
       "1                2021-01-19      2af09a       2      12           9     2   \n",
       "2                2021-01-19      063865       1       4           9     1   \n",
       "3                2021-01-19      1549d7       2       4           9     2   \n",
       "4                2021-01-19      054e2e       2      12           9     2   \n",
       "...                     ...         ...     ...     ...         ...   ...   \n",
       "4190180          2021-01-19      263aac       2      12           9     2   \n",
       "4190181          2021-01-19      27986f       1      12          14     1   \n",
       "4190182          2021-01-19      43bb72       2      12           9     1   \n",
       "4190183          2021-01-19      3d52a3       2      12           9     2   \n",
       "4190184          2021-01-19      2b51d4       1      12           9     2   \n",
       "\n",
       "         ENTIDAD_NAC  ENTIDAD_RES  MUNICIPIO_RES  TIPO_PACIENTE  ...  \\\n",
       "0                  9           15            106              1  ...   \n",
       "1                  9            9             14              1  ...   \n",
       "2                  9            9             14              2  ...   \n",
       "3                  9           30            102              2  ...   \n",
       "4                 15           15             20              1  ...   \n",
       "...              ...          ...            ...            ...  ...   \n",
       "4190180           32            9             15              1  ...   \n",
       "4190181           14           14             39              1  ...   \n",
       "4190182            9            9             12              1  ...   \n",
       "4190183            9            9             10              1  ...   \n",
       "4190184            9            9             10              1  ...   \n",
       "\n",
       "        OTRO_CASO TOMA_MUESTRA_LAB RESULTADO_LAB  TOMA_MUESTRA_ANTIGENO  \\\n",
       "0              99                1             1                      2   \n",
       "1               1                1             1                      2   \n",
       "2              99                1             1                      2   \n",
       "3              99                1             1                      2   \n",
       "4               2                1             1                      2   \n",
       "...           ...              ...           ...                    ...   \n",
       "4190180         1                2            97                      1   \n",
       "4190181         1                2            97                      1   \n",
       "4190182         1                2            97                      1   \n",
       "4190183         1                2            97                      1   \n",
       "4190184         1                2            97                      1   \n",
       "\n",
       "         RESULTADO_ANTIGENO  CLASIFICACION_FINAL  MIGRANTE  PAIS_NACIONALIDAD  \\\n",
       "0                        97                    3        99            MÃ©xico   \n",
       "1                        97                    3        99            MÃ©xico   \n",
       "2                        97                    3        99            MÃ©xico   \n",
       "3                        97                    3        99            MÃ©xico   \n",
       "4                        97                    3        99            MÃ©xico   \n",
       "...                     ...                  ...       ...                ...   \n",
       "4190180                   2                    7        99            MÃ©xico   \n",
       "4190181                   1                    3        99            MÃ©xico   \n",
       "4190182                   2                    7        99            MÃ©xico   \n",
       "4190183                   2                    1        99            MÃ©xico   \n",
       "4190184                   2                    7        99            MÃ©xico   \n",
       "\n",
       "         PAIS_ORIGEN  UCI  \n",
       "0                 97   97  \n",
       "1                 97   97  \n",
       "2                 97    2  \n",
       "3                 97    2  \n",
       "4                 97   97  \n",
       "...              ...  ...  \n",
       "4190180           97   97  \n",
       "4190181           97   97  \n",
       "4190182           97   97  \n",
       "4190183           97   97  \n",
       "4190184           97   97  \n",
       "\n",
       "[4190185 rows x 40 columns]"
      ]
     },
     "execution_count": 2,
     "metadata": {},
     "output_type": "execute_result"
    }
   ],
   "source": [
    "# data is as of 01/19/2021\n",
    "\n",
    "mx_covid = pd.read_csv('/Users/keila/Documents/Lambda/Project/project_covid/01_19_21.csv', encoding = 'ISO-8859-1')\n",
    "mx_covid"
   ]
  },
  {
   "cell_type": "code",
   "execution_count": 3,
   "metadata": {},
   "outputs": [
    {
     "data": {
      "text/plain": [
       "array([1])"
      ]
     },
     "execution_count": 3,
     "metadata": {},
     "output_type": "execute_result"
    }
   ],
   "source": [
    "# making sure each row is a unique person\n",
    "\n",
    "mx_covid['ID_REGISTRO'].value_counts().unique()\n",
    "\n",
    "# each row is a unique person --> no repititions"
   ]
  },
  {
   "cell_type": "markdown",
   "metadata": {},
   "source": [
    "# Feature Engineering"
   ]
  },
  {
   "cell_type": "code",
   "execution_count": 4,
   "metadata": {},
   "outputs": [],
   "source": [
    "# keep only a few useful columns\n",
    "mx_covid = mx_covid[['ID_REGISTRO', 'SEXO', 'FECHA_INGRESO', 'FECHA_SINTOMAS', 'EDAD', 'HABLA_LENGUA_INDIG', \n",
    "          'INDIGENA', 'RESULTADO_LAB', 'CLASIFICACION_FINAL']].copy()"
   ]
  },
  {
   "cell_type": "code",
   "execution_count": 5,
   "metadata": {
    "scrolled": true
   },
   "outputs": [
    {
     "data": {
      "text/html": [
       "<div>\n",
       "<style scoped>\n",
       "    .dataframe tbody tr th:only-of-type {\n",
       "        vertical-align: middle;\n",
       "    }\n",
       "\n",
       "    .dataframe tbody tr th {\n",
       "        vertical-align: top;\n",
       "    }\n",
       "\n",
       "    .dataframe thead th {\n",
       "        text-align: right;\n",
       "    }\n",
       "</style>\n",
       "<table border=\"1\" class=\"dataframe\">\n",
       "  <thead>\n",
       "    <tr style=\"text-align: right;\">\n",
       "      <th></th>\n",
       "      <th>ID_REGISTRO</th>\n",
       "      <th>SEXO</th>\n",
       "      <th>FECHA_INGRESO</th>\n",
       "      <th>FECHA_SINTOMAS</th>\n",
       "      <th>EDAD</th>\n",
       "      <th>HABLA_LENGUA_INDIG</th>\n",
       "      <th>INDIGENA</th>\n",
       "      <th>RESULTADO_LAB</th>\n",
       "      <th>CLASIFICACION_FINAL</th>\n",
       "    </tr>\n",
       "  </thead>\n",
       "  <tbody>\n",
       "    <tr>\n",
       "      <th>0</th>\n",
       "      <td>1474bf</td>\n",
       "      <td>1</td>\n",
       "      <td>2020-04-05</td>\n",
       "      <td>2020-03-30</td>\n",
       "      <td>37</td>\n",
       "      <td>2</td>\n",
       "      <td>2</td>\n",
       "      <td>1</td>\n",
       "      <td>3</td>\n",
       "    </tr>\n",
       "    <tr>\n",
       "      <th>1</th>\n",
       "      <td>2af09a</td>\n",
       "      <td>2</td>\n",
       "      <td>2020-03-11</td>\n",
       "      <td>2020-03-11</td>\n",
       "      <td>73</td>\n",
       "      <td>99</td>\n",
       "      <td>99</td>\n",
       "      <td>1</td>\n",
       "      <td>3</td>\n",
       "    </tr>\n",
       "    <tr>\n",
       "      <th>2</th>\n",
       "      <td>063865</td>\n",
       "      <td>1</td>\n",
       "      <td>2020-03-27</td>\n",
       "      <td>2020-03-27</td>\n",
       "      <td>59</td>\n",
       "      <td>2</td>\n",
       "      <td>2</td>\n",
       "      <td>1</td>\n",
       "      <td>3</td>\n",
       "    </tr>\n",
       "    <tr>\n",
       "      <th>3</th>\n",
       "      <td>1549d7</td>\n",
       "      <td>2</td>\n",
       "      <td>2020-04-03</td>\n",
       "      <td>2020-03-27</td>\n",
       "      <td>65</td>\n",
       "      <td>2</td>\n",
       "      <td>2</td>\n",
       "      <td>1</td>\n",
       "      <td>3</td>\n",
       "    </tr>\n",
       "    <tr>\n",
       "      <th>4</th>\n",
       "      <td>054e2e</td>\n",
       "      <td>2</td>\n",
       "      <td>2020-04-06</td>\n",
       "      <td>2020-03-26</td>\n",
       "      <td>70</td>\n",
       "      <td>2</td>\n",
       "      <td>2</td>\n",
       "      <td>1</td>\n",
       "      <td>3</td>\n",
       "    </tr>\n",
       "  </tbody>\n",
       "</table>\n",
       "</div>"
      ],
      "text/plain": [
       "  ID_REGISTRO  SEXO FECHA_INGRESO FECHA_SINTOMAS  EDAD  HABLA_LENGUA_INDIG  \\\n",
       "0      1474bf     1    2020-04-05     2020-03-30    37                   2   \n",
       "1      2af09a     2    2020-03-11     2020-03-11    73                  99   \n",
       "2      063865     1    2020-03-27     2020-03-27    59                   2   \n",
       "3      1549d7     2    2020-04-03     2020-03-27    65                   2   \n",
       "4      054e2e     2    2020-04-06     2020-03-26    70                   2   \n",
       "\n",
       "   INDIGENA  RESULTADO_LAB  CLASIFICACION_FINAL  \n",
       "0         2              1                    3  \n",
       "1        99              1                    3  \n",
       "2         2              1                    3  \n",
       "3         2              1                    3  \n",
       "4         2              1                    3  "
      ]
     },
     "execution_count": 5,
     "metadata": {},
     "output_type": "execute_result"
    }
   ],
   "source": [
    "mx_covid.head()"
   ]
  },
  {
   "cell_type": "code",
   "execution_count": 6,
   "metadata": {},
   "outputs": [
    {
     "data": {
      "text/plain": [
       "2021-01-04    33808\n",
       "2020-12-01    33004\n",
       "2020-12-10    32015\n",
       "2020-12-28    31849\n",
       "2021-01-01    31737\n",
       "              ...  \n",
       "2020-01-01      288\n",
       "2020-01-03      248\n",
       "2020-01-04      245\n",
       "2020-01-02      234\n",
       "2021-01-19       41\n",
       "Name: FECHA_SINTOMAS, Length: 385, dtype: int64"
      ]
     },
     "execution_count": 6,
     "metadata": {},
     "output_type": "execute_result"
    }
   ],
   "source": [
    "# date of symptom onset.....don't think I will use this for analysis because this could be affected by human error\n",
    "mx_covid['FECHA_SINTOMAS'].value_counts()"
   ]
  },
  {
   "cell_type": "code",
   "execution_count": 7,
   "metadata": {
    "scrolled": true
   },
   "outputs": [
    {
     "data": {
      "text/plain": [
       "2021-01-05    39163\n",
       "2021-01-14    38423\n",
       "2021-01-04    37233\n",
       "2021-01-11    36826\n",
       "2020-12-29    36626\n",
       "              ...  \n",
       "2020-02-08      102\n",
       "2020-02-01       96\n",
       "2020-01-11       93\n",
       "2020-01-04       80\n",
       "2020-01-01       36\n",
       "Name: FECHA_INGRESO, Length: 385, dtype: int64"
      ]
     },
     "execution_count": 7,
     "metadata": {},
     "output_type": "execute_result"
    }
   ],
   "source": [
    "# date medical attention was saught (this includes getting tested)\n",
    "# I will use this date column to test my hypothesis\n",
    "mx_covid['FECHA_INGRESO'].value_counts()"
   ]
  },
  {
   "cell_type": "code",
   "execution_count": 8,
   "metadata": {},
   "outputs": [],
   "source": [
    "# import datetime package to convert FECHA_INGRESO into datetime type and work with it that way\n",
    "import datetime"
   ]
  },
  {
   "cell_type": "code",
   "execution_count": 9,
   "metadata": {},
   "outputs": [
    {
     "data": {
      "text/plain": [
       "str"
      ]
     },
     "execution_count": 9,
     "metadata": {},
     "output_type": "execute_result"
    }
   ],
   "source": [
    "# what is the current type of the data in FECHA_INGRESO?\n",
    "type(mx_covid['FECHA_INGRESO'].iloc[500])"
   ]
  },
  {
   "cell_type": "code",
   "execution_count": 10,
   "metadata": {},
   "outputs": [
    {
     "data": {
      "text/plain": [
       "dtype('<M8[ns]')"
      ]
     },
     "execution_count": 10,
     "metadata": {},
     "output_type": "execute_result"
    }
   ],
   "source": [
    "# convert data in FECHA_INGRESO to datetime\n",
    "mx_covid['FECHA_INGRESO'] = pd.to_datetime(mx_covid['FECHA_INGRESO'])\n",
    "mx_covid['FECHA_INGRESO'].dtype"
   ]
  },
  {
   "cell_type": "code",
   "execution_count": 11,
   "metadata": {},
   "outputs": [
    {
     "data": {
      "text/plain": [
       "4"
      ]
     },
     "execution_count": 11,
     "metadata": {},
     "output_type": "execute_result"
    }
   ],
   "source": [
    "# check it has converted datetime in correct order\n",
    "mx_covid['FECHA_INGRESO'].iloc[0].month"
   ]
  },
  {
   "cell_type": "code",
   "execution_count": 12,
   "metadata": {},
   "outputs": [],
   "source": [
    "# create new column PRE_POST_XMAS \n",
    "# using 'antes' (before) and 'despues' (after), so that crosstab will yield plot I want later on\n",
    "mx_covid.loc[((mx_covid['FECHA_INGRESO'] >= pd.to_datetime('11/18/2020')) & (mx_covid['FECHA_INGRESO'] <= pd.to_datetime('12/18/2020'))), 'PRE_POST_XMAS'] = 'antes'\n",
    "mx_covid.loc[((mx_covid['FECHA_INGRESO'] >= pd.to_datetime('12/19/2020')) & (mx_covid['FECHA_INGRESO'] <= pd.to_datetime('1/18/2021'))), 'PRE_POST_XMAS'] = 'despues'"
   ]
  },
  {
   "cell_type": "code",
   "execution_count": 13,
   "metadata": {},
   "outputs": [
    {
     "data": {
      "text/html": [
       "<div>\n",
       "<style scoped>\n",
       "    .dataframe tbody tr th:only-of-type {\n",
       "        vertical-align: middle;\n",
       "    }\n",
       "\n",
       "    .dataframe tbody tr th {\n",
       "        vertical-align: top;\n",
       "    }\n",
       "\n",
       "    .dataframe thead th {\n",
       "        text-align: right;\n",
       "    }\n",
       "</style>\n",
       "<table border=\"1\" class=\"dataframe\">\n",
       "  <thead>\n",
       "    <tr style=\"text-align: right;\">\n",
       "      <th></th>\n",
       "      <th>ID_REGISTRO</th>\n",
       "      <th>SEXO</th>\n",
       "      <th>FECHA_INGRESO</th>\n",
       "      <th>FECHA_SINTOMAS</th>\n",
       "      <th>EDAD</th>\n",
       "      <th>HABLA_LENGUA_INDIG</th>\n",
       "      <th>INDIGENA</th>\n",
       "      <th>RESULTADO_LAB</th>\n",
       "      <th>CLASIFICACION_FINAL</th>\n",
       "      <th>PRE_POST_XMAS</th>\n",
       "    </tr>\n",
       "  </thead>\n",
       "  <tbody>\n",
       "    <tr>\n",
       "      <th>0</th>\n",
       "      <td>1474bf</td>\n",
       "      <td>1</td>\n",
       "      <td>2020-04-05</td>\n",
       "      <td>2020-03-30</td>\n",
       "      <td>37</td>\n",
       "      <td>2</td>\n",
       "      <td>2</td>\n",
       "      <td>1</td>\n",
       "      <td>3</td>\n",
       "      <td>NaN</td>\n",
       "    </tr>\n",
       "    <tr>\n",
       "      <th>1</th>\n",
       "      <td>2af09a</td>\n",
       "      <td>2</td>\n",
       "      <td>2020-03-11</td>\n",
       "      <td>2020-03-11</td>\n",
       "      <td>73</td>\n",
       "      <td>99</td>\n",
       "      <td>99</td>\n",
       "      <td>1</td>\n",
       "      <td>3</td>\n",
       "      <td>NaN</td>\n",
       "    </tr>\n",
       "    <tr>\n",
       "      <th>2</th>\n",
       "      <td>063865</td>\n",
       "      <td>1</td>\n",
       "      <td>2020-03-27</td>\n",
       "      <td>2020-03-27</td>\n",
       "      <td>59</td>\n",
       "      <td>2</td>\n",
       "      <td>2</td>\n",
       "      <td>1</td>\n",
       "      <td>3</td>\n",
       "      <td>NaN</td>\n",
       "    </tr>\n",
       "    <tr>\n",
       "      <th>3</th>\n",
       "      <td>1549d7</td>\n",
       "      <td>2</td>\n",
       "      <td>2020-04-03</td>\n",
       "      <td>2020-03-27</td>\n",
       "      <td>65</td>\n",
       "      <td>2</td>\n",
       "      <td>2</td>\n",
       "      <td>1</td>\n",
       "      <td>3</td>\n",
       "      <td>NaN</td>\n",
       "    </tr>\n",
       "    <tr>\n",
       "      <th>4</th>\n",
       "      <td>054e2e</td>\n",
       "      <td>2</td>\n",
       "      <td>2020-04-06</td>\n",
       "      <td>2020-03-26</td>\n",
       "      <td>70</td>\n",
       "      <td>2</td>\n",
       "      <td>2</td>\n",
       "      <td>1</td>\n",
       "      <td>3</td>\n",
       "      <td>NaN</td>\n",
       "    </tr>\n",
       "    <tr>\n",
       "      <th>...</th>\n",
       "      <td>...</td>\n",
       "      <td>...</td>\n",
       "      <td>...</td>\n",
       "      <td>...</td>\n",
       "      <td>...</td>\n",
       "      <td>...</td>\n",
       "      <td>...</td>\n",
       "      <td>...</td>\n",
       "      <td>...</td>\n",
       "      <td>...</td>\n",
       "    </tr>\n",
       "    <tr>\n",
       "      <th>4190180</th>\n",
       "      <td>263aac</td>\n",
       "      <td>2</td>\n",
       "      <td>2021-01-12</td>\n",
       "      <td>2021-01-12</td>\n",
       "      <td>61</td>\n",
       "      <td>2</td>\n",
       "      <td>2</td>\n",
       "      <td>97</td>\n",
       "      <td>7</td>\n",
       "      <td>despues</td>\n",
       "    </tr>\n",
       "    <tr>\n",
       "      <th>4190181</th>\n",
       "      <td>27986f</td>\n",
       "      <td>1</td>\n",
       "      <td>2021-01-06</td>\n",
       "      <td>2021-01-03</td>\n",
       "      <td>33</td>\n",
       "      <td>2</td>\n",
       "      <td>2</td>\n",
       "      <td>97</td>\n",
       "      <td>3</td>\n",
       "      <td>despues</td>\n",
       "    </tr>\n",
       "    <tr>\n",
       "      <th>4190182</th>\n",
       "      <td>43bb72</td>\n",
       "      <td>1</td>\n",
       "      <td>2021-01-07</td>\n",
       "      <td>2021-01-07</td>\n",
       "      <td>21</td>\n",
       "      <td>2</td>\n",
       "      <td>2</td>\n",
       "      <td>97</td>\n",
       "      <td>7</td>\n",
       "      <td>despues</td>\n",
       "    </tr>\n",
       "    <tr>\n",
       "      <th>4190183</th>\n",
       "      <td>3d52a3</td>\n",
       "      <td>2</td>\n",
       "      <td>2021-01-07</td>\n",
       "      <td>2021-01-07</td>\n",
       "      <td>75</td>\n",
       "      <td>2</td>\n",
       "      <td>2</td>\n",
       "      <td>97</td>\n",
       "      <td>1</td>\n",
       "      <td>despues</td>\n",
       "    </tr>\n",
       "    <tr>\n",
       "      <th>4190184</th>\n",
       "      <td>2b51d4</td>\n",
       "      <td>2</td>\n",
       "      <td>2021-01-07</td>\n",
       "      <td>2021-01-07</td>\n",
       "      <td>4</td>\n",
       "      <td>2</td>\n",
       "      <td>2</td>\n",
       "      <td>97</td>\n",
       "      <td>7</td>\n",
       "      <td>despues</td>\n",
       "    </tr>\n",
       "  </tbody>\n",
       "</table>\n",
       "<p>4190185 rows × 10 columns</p>\n",
       "</div>"
      ],
      "text/plain": [
       "        ID_REGISTRO  SEXO FECHA_INGRESO FECHA_SINTOMAS  EDAD  \\\n",
       "0            1474bf     1    2020-04-05     2020-03-30    37   \n",
       "1            2af09a     2    2020-03-11     2020-03-11    73   \n",
       "2            063865     1    2020-03-27     2020-03-27    59   \n",
       "3            1549d7     2    2020-04-03     2020-03-27    65   \n",
       "4            054e2e     2    2020-04-06     2020-03-26    70   \n",
       "...             ...   ...           ...            ...   ...   \n",
       "4190180      263aac     2    2021-01-12     2021-01-12    61   \n",
       "4190181      27986f     1    2021-01-06     2021-01-03    33   \n",
       "4190182      43bb72     1    2021-01-07     2021-01-07    21   \n",
       "4190183      3d52a3     2    2021-01-07     2021-01-07    75   \n",
       "4190184      2b51d4     2    2021-01-07     2021-01-07     4   \n",
       "\n",
       "         HABLA_LENGUA_INDIG  INDIGENA  RESULTADO_LAB  CLASIFICACION_FINAL  \\\n",
       "0                         2         2              1                    3   \n",
       "1                        99        99              1                    3   \n",
       "2                         2         2              1                    3   \n",
       "3                         2         2              1                    3   \n",
       "4                         2         2              1                    3   \n",
       "...                     ...       ...            ...                  ...   \n",
       "4190180                   2         2             97                    7   \n",
       "4190181                   2         2             97                    3   \n",
       "4190182                   2         2             97                    7   \n",
       "4190183                   2         2             97                    1   \n",
       "4190184                   2         2             97                    7   \n",
       "\n",
       "        PRE_POST_XMAS  \n",
       "0                 NaN  \n",
       "1                 NaN  \n",
       "2                 NaN  \n",
       "3                 NaN  \n",
       "4                 NaN  \n",
       "...               ...  \n",
       "4190180       despues  \n",
       "4190181       despues  \n",
       "4190182       despues  \n",
       "4190183       despues  \n",
       "4190184       despues  \n",
       "\n",
       "[4190185 rows x 10 columns]"
      ]
     },
     "execution_count": 13,
     "metadata": {},
     "output_type": "execute_result"
    }
   ],
   "source": [
    "# check it worked\n",
    "mx_covid"
   ]
  },
  {
   "cell_type": "code",
   "execution_count": 14,
   "metadata": {},
   "outputs": [
    {
     "name": "stdout",
     "output_type": "stream",
     "text": [
      "The shape of the dataframe to be used in analyzing COVID before & after Xmas: (1511028, 10)\n"
     ]
    }
   ],
   "source": [
    "# drop dates that will not be used in analysis\n",
    "mx_covid_xmas = mx_covid.dropna()\n",
    "print('The shape of the dataframe to be used in analyzing COVID before & after Xmas:', mx_covid_xmas.shape)"
   ]
  },
  {
   "cell_type": "markdown",
   "metadata": {},
   "source": [
    "# Data Analysis \n",
    "\n",
    "## Analyzing Mean COVID Cases Before & After Christmas\n"
   ]
  },
  {
   "cell_type": "code",
   "execution_count": 15,
   "metadata": {},
   "outputs": [
    {
     "data": {
      "text/plain": [
       "7    800009\n",
       "3    554430\n",
       "6    106932\n",
       "1     40213\n",
       "5      7429\n",
       "4      1536\n",
       "2       479\n",
       "Name: CLASIFICACION_FINAL, dtype: int64"
      ]
     },
     "execution_count": 15,
     "metadata": {},
     "output_type": "execute_result"
    }
   ],
   "source": [
    "# different classifications for determining whether covid case or not\n",
    "mx_covid_xmas['CLASIFICACION_FINAL'].value_counts()"
   ]
  },
  {
   "cell_type": "code",
   "execution_count": 16,
   "metadata": {},
   "outputs": [
    {
     "name": "stdout",
     "output_type": "stream",
     "text": [
      "1354439\n"
     ]
    }
   ],
   "source": [
    "# 7 is negative\n",
    "# 3 is positive\n",
    "# the rest are classifications NOT based solely on covid test results\n",
    "\n",
    "# add the hard positives and negatives to find total number of determined cases\n",
    "definitive = mx_covid_xmas['CLASIFICACION_FINAL'].value_counts()[7] + mx_covid_xmas['CLASIFICACION_FINAL'].value_counts()[3]\n",
    "print(definitive)"
   ]
  },
  {
   "cell_type": "code",
   "execution_count": 17,
   "metadata": {},
   "outputs": [
    {
     "data": {
      "text/plain": [
       "89.63692267780611"
      ]
     },
     "execution_count": 17,
     "metadata": {},
     "output_type": "execute_result"
    }
   ],
   "source": [
    "# percentage of cases that have definitive classification\n",
    "\n",
    "definitive/(len(mx_covid_xmas['CLASIFICACION_FINAL'])) *100"
   ]
  },
  {
   "cell_type": "markdown",
   "metadata": {},
   "source": [
    "### Analysis Using Definitive Classifications of COVID Incidence"
   ]
  },
  {
   "cell_type": "code",
   "execution_count": 18,
   "metadata": {},
   "outputs": [
    {
     "name": "stderr",
     "output_type": "stream",
     "text": [
      "<ipython-input-18-4c552260d6a1>:2: UserWarning: Boolean Series key will be reindexed to match DataFrame index.\n",
      "  def_mx_covid = mx_covid_xmas[(mx_covid['CLASIFICACION_FINAL'] == 7) | (mx_covid_xmas['CLASIFICACION_FINAL'] == 3)].copy()\n"
     ]
    },
    {
     "data": {
      "text/html": [
       "<div>\n",
       "<style scoped>\n",
       "    .dataframe tbody tr th:only-of-type {\n",
       "        vertical-align: middle;\n",
       "    }\n",
       "\n",
       "    .dataframe tbody tr th {\n",
       "        vertical-align: top;\n",
       "    }\n",
       "\n",
       "    .dataframe thead th {\n",
       "        text-align: right;\n",
       "    }\n",
       "</style>\n",
       "<table border=\"1\" class=\"dataframe\">\n",
       "  <thead>\n",
       "    <tr style=\"text-align: right;\">\n",
       "      <th></th>\n",
       "      <th>ID_REGISTRO</th>\n",
       "      <th>SEXO</th>\n",
       "      <th>FECHA_INGRESO</th>\n",
       "      <th>FECHA_SINTOMAS</th>\n",
       "      <th>EDAD</th>\n",
       "      <th>HABLA_LENGUA_INDIG</th>\n",
       "      <th>INDIGENA</th>\n",
       "      <th>RESULTADO_LAB</th>\n",
       "      <th>CLASIFICACION_FINAL</th>\n",
       "      <th>PRE_POST_XMAS</th>\n",
       "    </tr>\n",
       "  </thead>\n",
       "  <tbody>\n",
       "    <tr>\n",
       "      <th>1217855</th>\n",
       "      <td>3539d2</td>\n",
       "      <td>2</td>\n",
       "      <td>2020-11-22</td>\n",
       "      <td>2020-09-26</td>\n",
       "      <td>50</td>\n",
       "      <td>2</td>\n",
       "      <td>2</td>\n",
       "      <td>1</td>\n",
       "      <td>3</td>\n",
       "      <td>antes</td>\n",
       "    </tr>\n",
       "    <tr>\n",
       "      <th>1296690</th>\n",
       "      <td>0aa0bc</td>\n",
       "      <td>1</td>\n",
       "      <td>2021-01-04</td>\n",
       "      <td>2020-07-22</td>\n",
       "      <td>49</td>\n",
       "      <td>2</td>\n",
       "      <td>2</td>\n",
       "      <td>2</td>\n",
       "      <td>7</td>\n",
       "      <td>despues</td>\n",
       "    </tr>\n",
       "    <tr>\n",
       "      <th>1354580</th>\n",
       "      <td>38e56d</td>\n",
       "      <td>1</td>\n",
       "      <td>2020-11-25</td>\n",
       "      <td>2020-09-09</td>\n",
       "      <td>33</td>\n",
       "      <td>2</td>\n",
       "      <td>2</td>\n",
       "      <td>2</td>\n",
       "      <td>7</td>\n",
       "      <td>antes</td>\n",
       "    </tr>\n",
       "    <tr>\n",
       "      <th>2013557</th>\n",
       "      <td>299d07</td>\n",
       "      <td>1</td>\n",
       "      <td>2020-12-07</td>\n",
       "      <td>2020-12-05</td>\n",
       "      <td>71</td>\n",
       "      <td>2</td>\n",
       "      <td>2</td>\n",
       "      <td>1</td>\n",
       "      <td>3</td>\n",
       "      <td>antes</td>\n",
       "    </tr>\n",
       "    <tr>\n",
       "      <th>2013558</th>\n",
       "      <td>20d955</td>\n",
       "      <td>1</td>\n",
       "      <td>2020-12-05</td>\n",
       "      <td>2020-11-29</td>\n",
       "      <td>50</td>\n",
       "      <td>2</td>\n",
       "      <td>2</td>\n",
       "      <td>1</td>\n",
       "      <td>3</td>\n",
       "      <td>antes</td>\n",
       "    </tr>\n",
       "  </tbody>\n",
       "</table>\n",
       "</div>"
      ],
      "text/plain": [
       "        ID_REGISTRO  SEXO FECHA_INGRESO FECHA_SINTOMAS  EDAD  \\\n",
       "1217855      3539d2     2    2020-11-22     2020-09-26    50   \n",
       "1296690      0aa0bc     1    2021-01-04     2020-07-22    49   \n",
       "1354580      38e56d     1    2020-11-25     2020-09-09    33   \n",
       "2013557      299d07     1    2020-12-07     2020-12-05    71   \n",
       "2013558      20d955     1    2020-12-05     2020-11-29    50   \n",
       "\n",
       "         HABLA_LENGUA_INDIG  INDIGENA  RESULTADO_LAB  CLASIFICACION_FINAL  \\\n",
       "1217855                   2         2              1                    3   \n",
       "1296690                   2         2              2                    7   \n",
       "1354580                   2         2              2                    7   \n",
       "2013557                   2         2              1                    3   \n",
       "2013558                   2         2              1                    3   \n",
       "\n",
       "        PRE_POST_XMAS  \n",
       "1217855         antes  \n",
       "1296690       despues  \n",
       "1354580         antes  \n",
       "2013557         antes  \n",
       "2013558         antes  "
      ]
     },
     "execution_count": 18,
     "metadata": {},
     "output_type": "execute_result"
    }
   ],
   "source": [
    "# subset mx_covid_xmas to only have definitive classifications for covid cases\n",
    "def_mx_covid = mx_covid_xmas[(mx_covid['CLASIFICACION_FINAL'] == 7) | (mx_covid_xmas['CLASIFICACION_FINAL'] == 3)].copy()\n",
    "def_mx_covid.head()"
   ]
  },
  {
   "cell_type": "markdown",
   "metadata": {},
   "source": [
    "I will perform a chi-squared test on the mean positive COVID cases before and after Christmas."
   ]
  },
  {
   "cell_type": "code",
   "execution_count": 19,
   "metadata": {
    "scrolled": true
   },
   "outputs": [
    {
     "data": {
      "text/html": [
       "<div>\n",
       "<style scoped>\n",
       "    .dataframe tbody tr th:only-of-type {\n",
       "        vertical-align: middle;\n",
       "    }\n",
       "\n",
       "    .dataframe tbody tr th {\n",
       "        vertical-align: top;\n",
       "    }\n",
       "\n",
       "    .dataframe thead th {\n",
       "        text-align: right;\n",
       "    }\n",
       "</style>\n",
       "<table border=\"1\" class=\"dataframe\">\n",
       "  <thead>\n",
       "    <tr style=\"text-align: right;\">\n",
       "      <th></th>\n",
       "      <th>CLASIFICACION_FINAL</th>\n",
       "      <th>PRE_POST_XMAS</th>\n",
       "    </tr>\n",
       "  </thead>\n",
       "  <tbody>\n",
       "    <tr>\n",
       "      <th>1217855</th>\n",
       "      <td>3</td>\n",
       "      <td>antes</td>\n",
       "    </tr>\n",
       "    <tr>\n",
       "      <th>1296690</th>\n",
       "      <td>7</td>\n",
       "      <td>despues</td>\n",
       "    </tr>\n",
       "    <tr>\n",
       "      <th>1354580</th>\n",
       "      <td>7</td>\n",
       "      <td>antes</td>\n",
       "    </tr>\n",
       "    <tr>\n",
       "      <th>2013557</th>\n",
       "      <td>3</td>\n",
       "      <td>antes</td>\n",
       "    </tr>\n",
       "    <tr>\n",
       "      <th>2013558</th>\n",
       "      <td>3</td>\n",
       "      <td>antes</td>\n",
       "    </tr>\n",
       "    <tr>\n",
       "      <th>...</th>\n",
       "      <td>...</td>\n",
       "      <td>...</td>\n",
       "    </tr>\n",
       "    <tr>\n",
       "      <th>4190179</th>\n",
       "      <td>7</td>\n",
       "      <td>despues</td>\n",
       "    </tr>\n",
       "    <tr>\n",
       "      <th>4190180</th>\n",
       "      <td>7</td>\n",
       "      <td>despues</td>\n",
       "    </tr>\n",
       "    <tr>\n",
       "      <th>4190181</th>\n",
       "      <td>3</td>\n",
       "      <td>despues</td>\n",
       "    </tr>\n",
       "    <tr>\n",
       "      <th>4190182</th>\n",
       "      <td>7</td>\n",
       "      <td>despues</td>\n",
       "    </tr>\n",
       "    <tr>\n",
       "      <th>4190184</th>\n",
       "      <td>7</td>\n",
       "      <td>despues</td>\n",
       "    </tr>\n",
       "  </tbody>\n",
       "</table>\n",
       "<p>1354439 rows × 2 columns</p>\n",
       "</div>"
      ],
      "text/plain": [
       "         CLASIFICACION_FINAL PRE_POST_XMAS\n",
       "1217855                    3         antes\n",
       "1296690                    7       despues\n",
       "1354580                    7         antes\n",
       "2013557                    3         antes\n",
       "2013558                    3         antes\n",
       "...                      ...           ...\n",
       "4190179                    7       despues\n",
       "4190180                    7       despues\n",
       "4190181                    3       despues\n",
       "4190182                    7       despues\n",
       "4190184                    7       despues\n",
       "\n",
       "[1354439 rows x 2 columns]"
      ]
     },
     "execution_count": 19,
     "metadata": {},
     "output_type": "execute_result"
    }
   ],
   "source": [
    "# make def_mx_covid into tidy data for chi-square test\n",
    "def_mx_covid = def_mx_covid[['CLASIFICACION_FINAL', 'PRE_POST_XMAS']]\n",
    "def_mx_covid"
   ]
  },
  {
   "cell_type": "code",
   "execution_count": 20,
   "metadata": {},
   "outputs": [],
   "source": [
    "# write function to make tidy data\n",
    "def fix_classification(num):\n",
    "    '''Change classification from 3,7 to 0,1'''\n",
    "    if num == 3:\n",
    "        new_class = 1\n",
    "    else:\n",
    "        new_class = 0\n",
    "    return new_class       "
   ]
  },
  {
   "cell_type": "code",
   "execution_count": 21,
   "metadata": {},
   "outputs": [
    {
     "data": {
      "text/html": [
       "<div>\n",
       "<style scoped>\n",
       "    .dataframe tbody tr th:only-of-type {\n",
       "        vertical-align: middle;\n",
       "    }\n",
       "\n",
       "    .dataframe tbody tr th {\n",
       "        vertical-align: top;\n",
       "    }\n",
       "\n",
       "    .dataframe thead th {\n",
       "        text-align: right;\n",
       "    }\n",
       "</style>\n",
       "<table border=\"1\" class=\"dataframe\">\n",
       "  <thead>\n",
       "    <tr style=\"text-align: right;\">\n",
       "      <th></th>\n",
       "      <th>CLASIFICACION_FINAL</th>\n",
       "      <th>PRE_POST_XMAS</th>\n",
       "    </tr>\n",
       "  </thead>\n",
       "  <tbody>\n",
       "    <tr>\n",
       "      <th>1217855</th>\n",
       "      <td>1</td>\n",
       "      <td>antes</td>\n",
       "    </tr>\n",
       "    <tr>\n",
       "      <th>1296690</th>\n",
       "      <td>0</td>\n",
       "      <td>despues</td>\n",
       "    </tr>\n",
       "    <tr>\n",
       "      <th>1354580</th>\n",
       "      <td>0</td>\n",
       "      <td>antes</td>\n",
       "    </tr>\n",
       "    <tr>\n",
       "      <th>2013557</th>\n",
       "      <td>1</td>\n",
       "      <td>antes</td>\n",
       "    </tr>\n",
       "    <tr>\n",
       "      <th>2013558</th>\n",
       "      <td>1</td>\n",
       "      <td>antes</td>\n",
       "    </tr>\n",
       "    <tr>\n",
       "      <th>...</th>\n",
       "      <td>...</td>\n",
       "      <td>...</td>\n",
       "    </tr>\n",
       "    <tr>\n",
       "      <th>4190179</th>\n",
       "      <td>0</td>\n",
       "      <td>despues</td>\n",
       "    </tr>\n",
       "    <tr>\n",
       "      <th>4190180</th>\n",
       "      <td>0</td>\n",
       "      <td>despues</td>\n",
       "    </tr>\n",
       "    <tr>\n",
       "      <th>4190181</th>\n",
       "      <td>1</td>\n",
       "      <td>despues</td>\n",
       "    </tr>\n",
       "    <tr>\n",
       "      <th>4190182</th>\n",
       "      <td>0</td>\n",
       "      <td>despues</td>\n",
       "    </tr>\n",
       "    <tr>\n",
       "      <th>4190184</th>\n",
       "      <td>0</td>\n",
       "      <td>despues</td>\n",
       "    </tr>\n",
       "  </tbody>\n",
       "</table>\n",
       "<p>1354439 rows × 2 columns</p>\n",
       "</div>"
      ],
      "text/plain": [
       "         CLASIFICACION_FINAL PRE_POST_XMAS\n",
       "1217855                    1         antes\n",
       "1296690                    0       despues\n",
       "1354580                    0         antes\n",
       "2013557                    1         antes\n",
       "2013558                    1         antes\n",
       "...                      ...           ...\n",
       "4190179                    0       despues\n",
       "4190180                    0       despues\n",
       "4190181                    1       despues\n",
       "4190182                    0       despues\n",
       "4190184                    0       despues\n",
       "\n",
       "[1354439 rows x 2 columns]"
      ]
     },
     "execution_count": 21,
     "metadata": {},
     "output_type": "execute_result"
    }
   ],
   "source": [
    "# Apply function to CLASIFICACION_FINAL\n",
    "def_mx_covid['CLASIFICACION_FINAL'] = def_mx_covid['CLASIFICACION_FINAL'].apply(fix_classification)\n",
    "def_mx_covid"
   ]
  },
  {
   "cell_type": "markdown",
   "metadata": {},
   "source": [
    "$H_o$ : There is no relationship between time period and incidence of COVID.\n",
    "\n",
    "\n",
    "$H_a$ : There is a relationship between time period and incidence of COVID.\n",
    "\n",
    "Before Christmas: 11/18/2020 to 12/18/2020\n",
    "\n",
    "After Christmas: 12/19/2020 to 1/18/2021"
   ]
  },
  {
   "cell_type": "code",
   "execution_count": 22,
   "metadata": {},
   "outputs": [
    {
     "data": {
      "text/html": [
       "<div>\n",
       "<style scoped>\n",
       "    .dataframe tbody tr th:only-of-type {\n",
       "        vertical-align: middle;\n",
       "    }\n",
       "\n",
       "    .dataframe tbody tr th {\n",
       "        vertical-align: top;\n",
       "    }\n",
       "\n",
       "    .dataframe thead th {\n",
       "        text-align: right;\n",
       "    }\n",
       "</style>\n",
       "<table border=\"1\" class=\"dataframe\">\n",
       "  <thead>\n",
       "    <tr style=\"text-align: right;\">\n",
       "      <th>CLASIFICACION_FINAL</th>\n",
       "      <th>0</th>\n",
       "      <th>1</th>\n",
       "      <th>All</th>\n",
       "    </tr>\n",
       "    <tr>\n",
       "      <th>PRE_POST_XMAS</th>\n",
       "      <th></th>\n",
       "      <th></th>\n",
       "      <th></th>\n",
       "    </tr>\n",
       "  </thead>\n",
       "  <tbody>\n",
       "    <tr>\n",
       "      <th>antes</th>\n",
       "      <td>0.294555</td>\n",
       "      <td>0.196657</td>\n",
       "      <td>0.491212</td>\n",
       "    </tr>\n",
       "    <tr>\n",
       "      <th>despues</th>\n",
       "      <td>0.296102</td>\n",
       "      <td>0.212686</td>\n",
       "      <td>0.508788</td>\n",
       "    </tr>\n",
       "    <tr>\n",
       "      <th>All</th>\n",
       "      <td>0.590657</td>\n",
       "      <td>0.409343</td>\n",
       "      <td>1.000000</td>\n",
       "    </tr>\n",
       "  </tbody>\n",
       "</table>\n",
       "</div>"
      ],
      "text/plain": [
       "CLASIFICACION_FINAL         0         1       All\n",
       "PRE_POST_XMAS                                    \n",
       "antes                0.294555  0.196657  0.491212\n",
       "despues              0.296102  0.212686  0.508788\n",
       "All                  0.590657  0.409343  1.000000"
      ]
     },
     "execution_count": 22,
     "metadata": {},
     "output_type": "execute_result"
    }
   ],
   "source": [
    "# look at normalized frequency of data\n",
    "pd.crosstab(def_mx_covid['PRE_POST_XMAS'], def_mx_covid['CLASIFICACION_FINAL'], margins = True, normalize = True)"
   ]
  },
  {
   "cell_type": "code",
   "execution_count": 23,
   "metadata": {},
   "outputs": [
    {
     "name": "stdout",
     "output_type": "stream",
     "text": [
      "437.26812592954144\n",
      "4.256096488159473e-97\n"
     ]
    }
   ],
   "source": [
    "# perform the chi-squared test\n",
    "import scipy\n",
    "from scipy import stats\n",
    "\n",
    "g, p, dof, expctd = scipy.stats.chi2_contingency(\n",
    "    pd.crosstab(def_mx_covid['PRE_POST_XMAS'], def_mx_covid['CLASIFICACION_FINAL']))\n",
    "\n",
    "print(g)\n",
    "print(p)"
   ]
  },
  {
   "cell_type": "markdown",
   "metadata": {},
   "source": [
    "I reject the null hypothesis. There is a statistically significant relationship between the time period and incidence of COVID. I conclude this at the 0.05 significance level, because my p-value is smaller than the significance level. The Chi-square statistic is also quite large, which further implicates a statistically significant relationship."
   ]
  },
  {
   "cell_type": "code",
   "execution_count": 24,
   "metadata": {},
   "outputs": [],
   "source": [
    "import seaborn as sns\n",
    "import matplotlib.pyplot as plt"
   ]
  },
  {
   "cell_type": "code",
   "execution_count": 179,
   "metadata": {
    "scrolled": false
   },
   "outputs": [
    {
     "data": {
      "image/png": "[encoded data removed]",
      "text/plain": [
       "<Figure size 432x288 with 1 Axes>"
      ]
     },
     "metadata": {
      "needs_background": "light"
     },
     "output_type": "display_data"
    }
   ],
   "source": [
    "# visualize the data with only the definitive classifications\n",
    "ax1 = (pd.crosstab(def_mx_covid['CLASIFICACION_FINAL'], def_mx_covid['PRE_POST_XMAS'], normalize = 'columns')*100\n",
    "           ).plot(kind = 'bar', color = ['#D62F15', '#4B9C20'], width = 0.5)\n",
    "\n",
    "ax1.set_xlabel('COVID Status')\n",
    "ax1.set_xticks([0,1])\n",
    "ax1.set_xticklabels(['Negative', 'Positive'], rotation = 'horizontal')\n",
    "ax1.legend(['Before', 'After'])\n",
    "ax1.set_ylabel('Percent of Cases')\n",
    "ax1.set_ylim([0, 70])\n",
    "\n",
    "# write up a function to label bars in bar chart\n",
    "def label_bars_pct(ax, spacing = 1):\n",
    "    '''This function will label bars in a bar plot with the value of that bar, when the bar is a percent.'''\n",
    "    for bar in ax.patches:\n",
    "        y = bar.get_height()\n",
    "        x = bar.get_x() + bar.get_width() / 2\n",
    "        space = spacing\n",
    "        va = 'bottom'\n",
    "        label = \"{:.2f}\".format(y)\n",
    "        ax.annotate(label, (x, y), xytext = (0, space), textcoords = 'offset points', ha = 'center', va = va)\n",
    "\n",
    "        \n",
    "# apply the new function to plot        \n",
    "label_bars(ax1)        \n",
    "\n",
    "plt.show()"
   ]
  },
  {
   "cell_type": "code",
   "execution_count": 230,
   "metadata": {},
   "outputs": [
    {
     "data": {
      "image/png": "[encoded data removed]",
      "text/plain": [
       "<Figure size 504x360 with 1 Axes>"
      ]
     },
     "metadata": {
      "needs_background": "light"
     },
     "output_type": "display_data"
    }
   ],
   "source": [
    "# create plot for write up\n",
    "\n",
    "# separate out only the positive cases\n",
    "def_pos = def_mx_covid[def_mx_covid['CLASIFICACION_FINAL'] == 1]\n",
    "\n",
    "# visualize the data\n",
    "ax1_5 = pd.crosstab(def_pos['CLASIFICACION_FINAL'], def_pos['PRE_POST_XMAS']).plot(\n",
    "    kind = 'bar', color = ['#D62F15', '#4B9C20'], figsize = (7, 5))\n",
    "\n",
    "ax1_5.set_ylim([0, 310000])\n",
    "ax1_5.set_xticks([1])\n",
    "ax1_5.set_xticklabels([' '])\n",
    "ax1_5.set_xlabel('Positive Cases')\n",
    "ax1_5.set_ylabel('Number of Cases')\n",
    "ax1_5.legend(['Before', 'After'])\n",
    "ax1_5.set_title('COVID Cases in Mexico Before & After Christmas')\n",
    "\n",
    "# will be using the actual counts of COVID cases, so have to write a new function\n",
    "def label_bars(ax, spacing = 1):\n",
    "    '''This function will label bars in a bar plot with the value of that bar, when the bar is a count.'''\n",
    "    for bar in ax.patches:\n",
    "        y = bar.get_height()\n",
    "        x = bar.get_x() + bar.get_width() / 2\n",
    "        space = spacing\n",
    "        va = 'bottom'\n",
    "        label = \"{:.0f}\".format(y)\n",
    "        ax.annotate(label, (x, y), xytext = (0, space), textcoords = 'offset points', ha = 'center', va = va)\n",
    "        \n",
    "\n",
    "# apply function to plot        \n",
    "label_bars(ax1_5)\n",
    "\n",
    "# save figure to use in write up\n",
    "plt.savefig('Before_After_Xmas_Def.png')"
   ]
  },
  {
   "cell_type": "markdown",
   "metadata": {},
   "source": [
    "### Analysis Using Non-Definitive Classifications of COVID Incidence"
   ]
  },
  {
   "cell_type": "code",
   "execution_count": 27,
   "metadata": {},
   "outputs": [],
   "source": [
    "# in CLASIFICACION_FINAL 1-3 is a positive case (or as close to a positive case, since not all are determined by\n",
    "# lab result)\n",
    "# while 4-7 is a negative case (or as close to negative as possible, \n",
    "# since these are not definitive classifications)\n",
    "\n",
    "# make dataframe with only 2 cols I need\n",
    "non_def_mx_covid = mx_covid_xmas[['CLASIFICACION_FINAL', 'PRE_POST_XMAS']].copy()\n",
    "\n",
    "# change classifications to be useful for analysis --> tidy data\n",
    "non_def_mx_covid.loc[non_def_mx_covid['CLASIFICACION_FINAL'] <= 3, 'CLASIFICACION_FINAL'] = 1\n",
    "non_def_mx_covid.loc[non_def_mx_covid['CLASIFICACION_FINAL'] > 3, 'CLASIFICACION_FINAL'] = 0"
   ]
  },
  {
   "cell_type": "code",
   "execution_count": 28,
   "metadata": {},
   "outputs": [
    {
     "data": {
      "text/html": [
       "<div>\n",
       "<style scoped>\n",
       "    .dataframe tbody tr th:only-of-type {\n",
       "        vertical-align: middle;\n",
       "    }\n",
       "\n",
       "    .dataframe tbody tr th {\n",
       "        vertical-align: top;\n",
       "    }\n",
       "\n",
       "    .dataframe thead th {\n",
       "        text-align: right;\n",
       "    }\n",
       "</style>\n",
       "<table border=\"1\" class=\"dataframe\">\n",
       "  <thead>\n",
       "    <tr style=\"text-align: right;\">\n",
       "      <th></th>\n",
       "      <th>CLASIFICACION_FINAL</th>\n",
       "      <th>PRE_POST_XMAS</th>\n",
       "    </tr>\n",
       "  </thead>\n",
       "  <tbody>\n",
       "    <tr>\n",
       "      <th>1217855</th>\n",
       "      <td>1</td>\n",
       "      <td>antes</td>\n",
       "    </tr>\n",
       "    <tr>\n",
       "      <th>1296690</th>\n",
       "      <td>0</td>\n",
       "      <td>despues</td>\n",
       "    </tr>\n",
       "    <tr>\n",
       "      <th>1354580</th>\n",
       "      <td>0</td>\n",
       "      <td>antes</td>\n",
       "    </tr>\n",
       "    <tr>\n",
       "      <th>2013557</th>\n",
       "      <td>1</td>\n",
       "      <td>antes</td>\n",
       "    </tr>\n",
       "    <tr>\n",
       "      <th>2013558</th>\n",
       "      <td>1</td>\n",
       "      <td>antes</td>\n",
       "    </tr>\n",
       "    <tr>\n",
       "      <th>...</th>\n",
       "      <td>...</td>\n",
       "      <td>...</td>\n",
       "    </tr>\n",
       "    <tr>\n",
       "      <th>4190180</th>\n",
       "      <td>0</td>\n",
       "      <td>despues</td>\n",
       "    </tr>\n",
       "    <tr>\n",
       "      <th>4190181</th>\n",
       "      <td>1</td>\n",
       "      <td>despues</td>\n",
       "    </tr>\n",
       "    <tr>\n",
       "      <th>4190182</th>\n",
       "      <td>0</td>\n",
       "      <td>despues</td>\n",
       "    </tr>\n",
       "    <tr>\n",
       "      <th>4190183</th>\n",
       "      <td>1</td>\n",
       "      <td>despues</td>\n",
       "    </tr>\n",
       "    <tr>\n",
       "      <th>4190184</th>\n",
       "      <td>0</td>\n",
       "      <td>despues</td>\n",
       "    </tr>\n",
       "  </tbody>\n",
       "</table>\n",
       "<p>1511028 rows × 2 columns</p>\n",
       "</div>"
      ],
      "text/plain": [
       "         CLASIFICACION_FINAL PRE_POST_XMAS\n",
       "1217855                    1         antes\n",
       "1296690                    0       despues\n",
       "1354580                    0         antes\n",
       "2013557                    1         antes\n",
       "2013558                    1         antes\n",
       "...                      ...           ...\n",
       "4190180                    0       despues\n",
       "4190181                    1       despues\n",
       "4190182                    0       despues\n",
       "4190183                    1       despues\n",
       "4190184                    0       despues\n",
       "\n",
       "[1511028 rows x 2 columns]"
      ]
     },
     "execution_count": 28,
     "metadata": {},
     "output_type": "execute_result"
    }
   ],
   "source": [
    "# let's look at new dataframe\n",
    "non_def_mx_covid\n",
    "\n",
    "# looks like tidy data!"
   ]
  },
  {
   "cell_type": "markdown",
   "metadata": {},
   "source": [
    "$H_o$ : There is no relationship between time period and incidence of COVID.\n",
    "\n",
    "\n",
    "$H_a$ : There is a relationship between time period and incidence of COVID."
   ]
  },
  {
   "cell_type": "code",
   "execution_count": 29,
   "metadata": {},
   "outputs": [
    {
     "data": {
      "text/html": [
       "<div>\n",
       "<style scoped>\n",
       "    .dataframe tbody tr th:only-of-type {\n",
       "        vertical-align: middle;\n",
       "    }\n",
       "\n",
       "    .dataframe tbody tr th {\n",
       "        vertical-align: top;\n",
       "    }\n",
       "\n",
       "    .dataframe thead th {\n",
       "        text-align: right;\n",
       "    }\n",
       "</style>\n",
       "<table border=\"1\" class=\"dataframe\">\n",
       "  <thead>\n",
       "    <tr style=\"text-align: right;\">\n",
       "      <th>CLASIFICACION_FINAL</th>\n",
       "      <th>0</th>\n",
       "      <th>1</th>\n",
       "      <th>All</th>\n",
       "    </tr>\n",
       "    <tr>\n",
       "      <th>PRE_POST_XMAS</th>\n",
       "      <th></th>\n",
       "      <th></th>\n",
       "      <th></th>\n",
       "    </tr>\n",
       "  </thead>\n",
       "  <tbody>\n",
       "    <tr>\n",
       "      <th>antes</th>\n",
       "      <td>0.295108</td>\n",
       "      <td>0.188758</td>\n",
       "      <td>0.483867</td>\n",
       "    </tr>\n",
       "    <tr>\n",
       "      <th>despues</th>\n",
       "      <td>0.311039</td>\n",
       "      <td>0.205094</td>\n",
       "      <td>0.516133</td>\n",
       "    </tr>\n",
       "    <tr>\n",
       "      <th>All</th>\n",
       "      <td>0.606148</td>\n",
       "      <td>0.393852</td>\n",
       "      <td>1.000000</td>\n",
       "    </tr>\n",
       "  </tbody>\n",
       "</table>\n",
       "</div>"
      ],
      "text/plain": [
       "CLASIFICACION_FINAL         0         1       All\n",
       "PRE_POST_XMAS                                    \n",
       "antes                0.295108  0.188758  0.483867\n",
       "despues              0.311039  0.205094  0.516133\n",
       "All                  0.606148  0.393852  1.000000"
      ]
     },
     "execution_count": 29,
     "metadata": {},
     "output_type": "execute_result"
    }
   ],
   "source": [
    "# look at normalized frequency of data\n",
    "pd.crosstab(non_def_mx_covid['PRE_POST_XMAS'], non_def_mx_covid['CLASIFICACION_FINAL'], margins = True, \n",
    "            normalize = True)"
   ]
  },
  {
   "cell_type": "code",
   "execution_count": 30,
   "metadata": {},
   "outputs": [
    {
     "name": "stdout",
     "output_type": "stream",
     "text": [
      "83.34543596343681\n",
      "6.889769191190268e-20\n"
     ]
    }
   ],
   "source": [
    "# perform the Chi-square test\n",
    "\n",
    "g, p, dof, expctd = scipy.stats.chi2_contingency(\n",
    "    pd.crosstab(non_def_mx_covid['PRE_POST_XMAS'], non_def_mx_covid['CLASIFICACION_FINAL']))\n",
    "\n",
    "print(g)\n",
    "print(p)"
   ]
  },
  {
   "cell_type": "markdown",
   "metadata": {},
   "source": [
    "Even with the inclusion of classifications that are not definitive, I am able to reject the null hypothesis. With a significance level of 0.05, my p-value allows me to reject the null hypothesis, because the p-value is smaller than 0.05. The Chi-square statistic is large, further implicating a statisitically significant relationship between time period and incidence of COVID."
   ]
  },
  {
   "cell_type": "code",
   "execution_count": 215,
   "metadata": {},
   "outputs": [
    {
     "data": {
      "image/png": "[encoded data removed]",
      "text/plain": [
       "<Figure size 432x288 with 1 Axes>"
      ]
     },
     "metadata": {
      "needs_background": "light"
     },
     "output_type": "display_data"
    }
   ],
   "source": [
    "# visualize the analysis with all COVID classifications\n",
    "ax2 = (pd.crosstab(non_def_mx_covid['CLASIFICACION_FINAL'], non_def_mx_covid['PRE_POST_XMAS'], normalize = 'columns'\n",
    "            )*100).plot(kind = 'bar')\n",
    "\n",
    "ax2.set_xlabel('COVID Status')\n",
    "ax2.set_xticks([0, 1])\n",
    "ax2.set_xticklabels(['Negative', 'Positive'], rotation = 'horizontal')\n",
    "ax2.legend(['Before', 'After'])\n",
    "ax2.set_ylabel('% of Cases Normalized by Time Period')\n",
    "ax2.set_ylim([0, 70])\n",
    "\n",
    "label_bars_pct(ax2)\n",
    "\n",
    "plt.show()"
   ]
  },
  {
   "cell_type": "code",
   "execution_count": 218,
   "metadata": {},
   "outputs": [
    {
     "data": {
      "image/png": "[encoded data removed]",
      "text/plain": [
       "<Figure size 504x360 with 1 Axes>"
      ]
     },
     "metadata": {
      "needs_background": "light"
     },
     "output_type": "display_data"
    }
   ],
   "source": [
    "# create plot for write up\n",
    "\n",
    "# separate out only the positive cases\n",
    "nondef_pos = non_def_mx_covid[non_def_mx_covid['CLASIFICACION_FINAL'] == 1]\n",
    "\n",
    "# visualize the data\n",
    "ax2_5 = pd.crosstab(nondef_pos['CLASIFICACION_FINAL'], nondef_pos['PRE_POST_XMAS']).plot(\n",
    "    kind = 'bar', color = ['#D62F15', '#4B9C20'], figsize = (7, 5))\n",
    "\n",
    "ax2_5.set_ylim([0, 330000])\n",
    "ax2_5.set_xticks([1])\n",
    "ax2_5.set_xticklabels([' '])\n",
    "ax2_5.set_xlabel('Positive Cases')\n",
    "ax2_5.set_ylabel('Number of Cases')\n",
    "ax2_5.legend(['Before', 'After'])\n",
    "\n",
    "# apply function to plot        \n",
    "label_bars(ax2_5)"
   ]
  },
  {
   "cell_type": "markdown",
   "metadata": {},
   "source": [
    "## Analyzing COVID's Impact on Indigenous Population of Mexico"
   ]
  },
  {
   "cell_type": "code",
   "execution_count": 33,
   "metadata": {},
   "outputs": [
    {
     "data": {
      "text/html": [
       "<div>\n",
       "<style scoped>\n",
       "    .dataframe tbody tr th:only-of-type {\n",
       "        vertical-align: middle;\n",
       "    }\n",
       "\n",
       "    .dataframe tbody tr th {\n",
       "        vertical-align: top;\n",
       "    }\n",
       "\n",
       "    .dataframe thead th {\n",
       "        text-align: right;\n",
       "    }\n",
       "</style>\n",
       "<table border=\"1\" class=\"dataframe\">\n",
       "  <thead>\n",
       "    <tr style=\"text-align: right;\">\n",
       "      <th></th>\n",
       "      <th>ID_REGISTRO</th>\n",
       "      <th>SEXO</th>\n",
       "      <th>FECHA_INGRESO</th>\n",
       "      <th>FECHA_SINTOMAS</th>\n",
       "      <th>EDAD</th>\n",
       "      <th>HABLA_LENGUA_INDIG</th>\n",
       "      <th>INDIGENA</th>\n",
       "      <th>RESULTADO_LAB</th>\n",
       "      <th>CLASIFICACION_FINAL</th>\n",
       "      <th>PRE_POST_XMAS</th>\n",
       "    </tr>\n",
       "  </thead>\n",
       "  <tbody>\n",
       "    <tr>\n",
       "      <th>0</th>\n",
       "      <td>1474bf</td>\n",
       "      <td>1</td>\n",
       "      <td>2020-04-05</td>\n",
       "      <td>2020-03-30</td>\n",
       "      <td>37</td>\n",
       "      <td>2</td>\n",
       "      <td>2</td>\n",
       "      <td>1</td>\n",
       "      <td>3</td>\n",
       "      <td>NaN</td>\n",
       "    </tr>\n",
       "    <tr>\n",
       "      <th>1</th>\n",
       "      <td>2af09a</td>\n",
       "      <td>2</td>\n",
       "      <td>2020-03-11</td>\n",
       "      <td>2020-03-11</td>\n",
       "      <td>73</td>\n",
       "      <td>99</td>\n",
       "      <td>99</td>\n",
       "      <td>1</td>\n",
       "      <td>3</td>\n",
       "      <td>NaN</td>\n",
       "    </tr>\n",
       "    <tr>\n",
       "      <th>2</th>\n",
       "      <td>063865</td>\n",
       "      <td>1</td>\n",
       "      <td>2020-03-27</td>\n",
       "      <td>2020-03-27</td>\n",
       "      <td>59</td>\n",
       "      <td>2</td>\n",
       "      <td>2</td>\n",
       "      <td>1</td>\n",
       "      <td>3</td>\n",
       "      <td>NaN</td>\n",
       "    </tr>\n",
       "    <tr>\n",
       "      <th>3</th>\n",
       "      <td>1549d7</td>\n",
       "      <td>2</td>\n",
       "      <td>2020-04-03</td>\n",
       "      <td>2020-03-27</td>\n",
       "      <td>65</td>\n",
       "      <td>2</td>\n",
       "      <td>2</td>\n",
       "      <td>1</td>\n",
       "      <td>3</td>\n",
       "      <td>NaN</td>\n",
       "    </tr>\n",
       "    <tr>\n",
       "      <th>4</th>\n",
       "      <td>054e2e</td>\n",
       "      <td>2</td>\n",
       "      <td>2020-04-06</td>\n",
       "      <td>2020-03-26</td>\n",
       "      <td>70</td>\n",
       "      <td>2</td>\n",
       "      <td>2</td>\n",
       "      <td>1</td>\n",
       "      <td>3</td>\n",
       "      <td>NaN</td>\n",
       "    </tr>\n",
       "    <tr>\n",
       "      <th>...</th>\n",
       "      <td>...</td>\n",
       "      <td>...</td>\n",
       "      <td>...</td>\n",
       "      <td>...</td>\n",
       "      <td>...</td>\n",
       "      <td>...</td>\n",
       "      <td>...</td>\n",
       "      <td>...</td>\n",
       "      <td>...</td>\n",
       "      <td>...</td>\n",
       "    </tr>\n",
       "    <tr>\n",
       "      <th>4190180</th>\n",
       "      <td>263aac</td>\n",
       "      <td>2</td>\n",
       "      <td>2021-01-12</td>\n",
       "      <td>2021-01-12</td>\n",
       "      <td>61</td>\n",
       "      <td>2</td>\n",
       "      <td>2</td>\n",
       "      <td>97</td>\n",
       "      <td>7</td>\n",
       "      <td>despues</td>\n",
       "    </tr>\n",
       "    <tr>\n",
       "      <th>4190181</th>\n",
       "      <td>27986f</td>\n",
       "      <td>1</td>\n",
       "      <td>2021-01-06</td>\n",
       "      <td>2021-01-03</td>\n",
       "      <td>33</td>\n",
       "      <td>2</td>\n",
       "      <td>2</td>\n",
       "      <td>97</td>\n",
       "      <td>3</td>\n",
       "      <td>despues</td>\n",
       "    </tr>\n",
       "    <tr>\n",
       "      <th>4190182</th>\n",
       "      <td>43bb72</td>\n",
       "      <td>1</td>\n",
       "      <td>2021-01-07</td>\n",
       "      <td>2021-01-07</td>\n",
       "      <td>21</td>\n",
       "      <td>2</td>\n",
       "      <td>2</td>\n",
       "      <td>97</td>\n",
       "      <td>7</td>\n",
       "      <td>despues</td>\n",
       "    </tr>\n",
       "    <tr>\n",
       "      <th>4190183</th>\n",
       "      <td>3d52a3</td>\n",
       "      <td>2</td>\n",
       "      <td>2021-01-07</td>\n",
       "      <td>2021-01-07</td>\n",
       "      <td>75</td>\n",
       "      <td>2</td>\n",
       "      <td>2</td>\n",
       "      <td>97</td>\n",
       "      <td>1</td>\n",
       "      <td>despues</td>\n",
       "    </tr>\n",
       "    <tr>\n",
       "      <th>4190184</th>\n",
       "      <td>2b51d4</td>\n",
       "      <td>2</td>\n",
       "      <td>2021-01-07</td>\n",
       "      <td>2021-01-07</td>\n",
       "      <td>4</td>\n",
       "      <td>2</td>\n",
       "      <td>2</td>\n",
       "      <td>97</td>\n",
       "      <td>7</td>\n",
       "      <td>despues</td>\n",
       "    </tr>\n",
       "  </tbody>\n",
       "</table>\n",
       "<p>4190185 rows × 10 columns</p>\n",
       "</div>"
      ],
      "text/plain": [
       "        ID_REGISTRO  SEXO FECHA_INGRESO FECHA_SINTOMAS  EDAD  \\\n",
       "0            1474bf     1    2020-04-05     2020-03-30    37   \n",
       "1            2af09a     2    2020-03-11     2020-03-11    73   \n",
       "2            063865     1    2020-03-27     2020-03-27    59   \n",
       "3            1549d7     2    2020-04-03     2020-03-27    65   \n",
       "4            054e2e     2    2020-04-06     2020-03-26    70   \n",
       "...             ...   ...           ...            ...   ...   \n",
       "4190180      263aac     2    2021-01-12     2021-01-12    61   \n",
       "4190181      27986f     1    2021-01-06     2021-01-03    33   \n",
       "4190182      43bb72     1    2021-01-07     2021-01-07    21   \n",
       "4190183      3d52a3     2    2021-01-07     2021-01-07    75   \n",
       "4190184      2b51d4     2    2021-01-07     2021-01-07     4   \n",
       "\n",
       "         HABLA_LENGUA_INDIG  INDIGENA  RESULTADO_LAB  CLASIFICACION_FINAL  \\\n",
       "0                         2         2              1                    3   \n",
       "1                        99        99              1                    3   \n",
       "2                         2         2              1                    3   \n",
       "3                         2         2              1                    3   \n",
       "4                         2         2              1                    3   \n",
       "...                     ...       ...            ...                  ...   \n",
       "4190180                   2         2             97                    7   \n",
       "4190181                   2         2             97                    3   \n",
       "4190182                   2         2             97                    7   \n",
       "4190183                   2         2             97                    1   \n",
       "4190184                   2         2             97                    7   \n",
       "\n",
       "        PRE_POST_XMAS  \n",
       "0                 NaN  \n",
       "1                 NaN  \n",
       "2                 NaN  \n",
       "3                 NaN  \n",
       "4                 NaN  \n",
       "...               ...  \n",
       "4190180       despues  \n",
       "4190181       despues  \n",
       "4190182       despues  \n",
       "4190183       despues  \n",
       "4190184       despues  \n",
       "\n",
       "[4190185 rows x 10 columns]"
      ]
     },
     "execution_count": 33,
     "metadata": {},
     "output_type": "execute_result"
    }
   ],
   "source": [
    "# have another look at the original dataframe with all the data\n",
    "mx_covid"
   ]
  },
  {
   "cell_type": "code",
   "execution_count": 34,
   "metadata": {},
   "outputs": [],
   "source": [
    "# subset the dataframe to only contain what we need\n",
    "indig = mx_covid[['ID_REGISTRO','HABLA_LENGUA_INDIG', 'INDIGENA', 'CLASIFICACION_FINAL']]"
   ]
  },
  {
   "cell_type": "code",
   "execution_count": 35,
   "metadata": {},
   "outputs": [
    {
     "data": {
      "text/plain": [
       "2     3971613\n",
       "99     191237\n",
       "1       27335\n",
       "Name: HABLA_LENGUA_INDIG, dtype: int64"
      ]
     },
     "execution_count": 35,
     "metadata": {},
     "output_type": "execute_result"
    }
   ],
   "source": [
    "# 99 is not specified\n",
    "# more people did not specify if they spoke a native language\n",
    "indig['HABLA_LENGUA_INDIG'].value_counts()"
   ]
  },
  {
   "cell_type": "code",
   "execution_count": 36,
   "metadata": {},
   "outputs": [
    {
     "data": {
      "text/plain": [
       "2     3965247\n",
       "99     187303\n",
       "1       37635\n",
       "Name: INDIGENA, dtype: int64"
      ]
     },
     "execution_count": 36,
     "metadata": {},
     "output_type": "execute_result"
    }
   ],
   "source": [
    "# less people did not specify if they identidy as indigenous than if they spoke a native language\n",
    "# I will use this column for the analysis\n",
    "indig['INDIGENA'].value_counts()"
   ]
  },
  {
   "cell_type": "code",
   "execution_count": 37,
   "metadata": {},
   "outputs": [],
   "source": [
    "# further subset to include the only columns to be used in analysis\n",
    "indig = indig[['INDIGENA', 'CLASIFICACION_FINAL']]"
   ]
  },
  {
   "cell_type": "code",
   "execution_count": 38,
   "metadata": {},
   "outputs": [],
   "source": [
    "# only keeping the observations that have a specified answer\n",
    "indig_spec = indig[indig['INDIGENA'] < 10].copy()"
   ]
  },
  {
   "cell_type": "code",
   "execution_count": 39,
   "metadata": {},
   "outputs": [
    {
     "data": {
      "text/plain": [
       "0    3965247\n",
       "1      37635\n",
       "Name: INDIGENA, dtype: int64"
      ]
     },
     "execution_count": 39,
     "metadata": {},
     "output_type": "execute_result"
    }
   ],
   "source": [
    "# set the values in INDIGENA to usable numbers for analysis\n",
    "indig_spec.loc[indig_spec['INDIGENA'] == 2, 'INDIGENA'] = 0\n",
    "\n",
    "#check that the desired change occurred\n",
    "indig_spec['INDIGENA'].value_counts()"
   ]
  },
  {
   "cell_type": "code",
   "execution_count": 40,
   "metadata": {},
   "outputs": [
    {
     "data": {
      "text/plain": [
       "0.9401975876381067"
      ]
     },
     "execution_count": 40,
     "metadata": {},
     "output_type": "execute_result"
    }
   ],
   "source": [
    "# the percentage of observations in the entire dataset that are from people who identify as indigenous\n",
    "yes_indig = indig_spec['INDIGENA'].value_counts()[1]\n",
    "(yes_indig / len(indig_spec))*100"
   ]
  },
  {
   "cell_type": "markdown",
   "metadata": {},
   "source": [
    "Less than 1% of the observations are from people who identify as indigenous. In Mexico, about 20% of the population is indigenous, so this dataset is possibly not very representative of Mexico's population. Either COVID is not affecting the indigenous, or maybe they are having a harder time accessing medical attention, which leads to them not being represented in the dataset."
   ]
  },
  {
   "cell_type": "code",
   "execution_count": 41,
   "metadata": {},
   "outputs": [
    {
     "data": {
      "text/html": [
       "<div>\n",
       "<style scoped>\n",
       "    .dataframe tbody tr th:only-of-type {\n",
       "        vertical-align: middle;\n",
       "    }\n",
       "\n",
       "    .dataframe tbody tr th {\n",
       "        vertical-align: top;\n",
       "    }\n",
       "\n",
       "    .dataframe thead th {\n",
       "        text-align: right;\n",
       "    }\n",
       "</style>\n",
       "<table border=\"1\" class=\"dataframe\">\n",
       "  <thead>\n",
       "    <tr style=\"text-align: right;\">\n",
       "      <th></th>\n",
       "      <th>INDIGENA</th>\n",
       "      <th>CLASIFICACION_FINAL</th>\n",
       "    </tr>\n",
       "  </thead>\n",
       "  <tbody>\n",
       "    <tr>\n",
       "      <th>0</th>\n",
       "      <td>0</td>\n",
       "      <td>3</td>\n",
       "    </tr>\n",
       "    <tr>\n",
       "      <th>2</th>\n",
       "      <td>0</td>\n",
       "      <td>3</td>\n",
       "    </tr>\n",
       "    <tr>\n",
       "      <th>3</th>\n",
       "      <td>0</td>\n",
       "      <td>3</td>\n",
       "    </tr>\n",
       "    <tr>\n",
       "      <th>4</th>\n",
       "      <td>0</td>\n",
       "      <td>3</td>\n",
       "    </tr>\n",
       "    <tr>\n",
       "      <th>5</th>\n",
       "      <td>0</td>\n",
       "      <td>3</td>\n",
       "    </tr>\n",
       "    <tr>\n",
       "      <th>...</th>\n",
       "      <td>...</td>\n",
       "      <td>...</td>\n",
       "    </tr>\n",
       "    <tr>\n",
       "      <th>4190180</th>\n",
       "      <td>0</td>\n",
       "      <td>7</td>\n",
       "    </tr>\n",
       "    <tr>\n",
       "      <th>4190181</th>\n",
       "      <td>0</td>\n",
       "      <td>3</td>\n",
       "    </tr>\n",
       "    <tr>\n",
       "      <th>4190182</th>\n",
       "      <td>0</td>\n",
       "      <td>7</td>\n",
       "    </tr>\n",
       "    <tr>\n",
       "      <th>4190183</th>\n",
       "      <td>0</td>\n",
       "      <td>1</td>\n",
       "    </tr>\n",
       "    <tr>\n",
       "      <th>4190184</th>\n",
       "      <td>0</td>\n",
       "      <td>7</td>\n",
       "    </tr>\n",
       "  </tbody>\n",
       "</table>\n",
       "<p>4002882 rows × 2 columns</p>\n",
       "</div>"
      ],
      "text/plain": [
       "         INDIGENA  CLASIFICACION_FINAL\n",
       "0               0                    3\n",
       "2               0                    3\n",
       "3               0                    3\n",
       "4               0                    3\n",
       "5               0                    3\n",
       "...           ...                  ...\n",
       "4190180         0                    7\n",
       "4190181         0                    3\n",
       "4190182         0                    7\n",
       "4190183         0                    1\n",
       "4190184         0                    7\n",
       "\n",
       "[4002882 rows x 2 columns]"
      ]
     },
     "execution_count": 41,
     "metadata": {},
     "output_type": "execute_result"
    }
   ],
   "source": [
    "indig_spec"
   ]
  },
  {
   "cell_type": "markdown",
   "metadata": {},
   "source": [
    "### Analysis with Non-Definitive Classifications"
   ]
  },
  {
   "cell_type": "code",
   "execution_count": 42,
   "metadata": {},
   "outputs": [],
   "source": [
    "non_def_indig_spec = indig_spec.copy()"
   ]
  },
  {
   "cell_type": "code",
   "execution_count": 43,
   "metadata": {},
   "outputs": [],
   "source": [
    "# I will use all classifications of COVID, separated in the same way as earlier in this project.\n",
    "non_def_indig_spec.loc[indig_spec['CLASIFICACION_FINAL'] <= 3, 'CLASIFICACION_FINAL'] = 1\n",
    "non_def_indig_spec.loc[indig_spec['CLASIFICACION_FINAL'] > 3, 'CLASIFICACION_FINAL'] = 0"
   ]
  },
  {
   "cell_type": "markdown",
   "metadata": {},
   "source": [
    "$H_o$ : There is no relationship between identifying as indigenous and COVID incidence.\n",
    "\n",
    "$H_a$ : There is a relationship between identifying as indigenous and COVID incidence."
   ]
  },
  {
   "cell_type": "code",
   "execution_count": 44,
   "metadata": {},
   "outputs": [
    {
     "data": {
      "text/html": [
       "<div>\n",
       "<style scoped>\n",
       "    .dataframe tbody tr th:only-of-type {\n",
       "        vertical-align: middle;\n",
       "    }\n",
       "\n",
       "    .dataframe tbody tr th {\n",
       "        vertical-align: top;\n",
       "    }\n",
       "\n",
       "    .dataframe thead th {\n",
       "        text-align: right;\n",
       "    }\n",
       "</style>\n",
       "<table border=\"1\" class=\"dataframe\">\n",
       "  <thead>\n",
       "    <tr style=\"text-align: right;\">\n",
       "      <th>CLASIFICACION_FINAL</th>\n",
       "      <th>0</th>\n",
       "      <th>1</th>\n",
       "    </tr>\n",
       "    <tr>\n",
       "      <th>INDIGENA</th>\n",
       "      <th></th>\n",
       "      <th></th>\n",
       "    </tr>\n",
       "  </thead>\n",
       "  <tbody>\n",
       "    <tr>\n",
       "      <th>0</th>\n",
       "      <td>0.599443</td>\n",
       "      <td>0.400557</td>\n",
       "    </tr>\n",
       "    <tr>\n",
       "      <th>1</th>\n",
       "      <td>0.615039</td>\n",
       "      <td>0.384961</td>\n",
       "    </tr>\n",
       "    <tr>\n",
       "      <th>All</th>\n",
       "      <td>0.599589</td>\n",
       "      <td>0.400411</td>\n",
       "    </tr>\n",
       "  </tbody>\n",
       "</table>\n",
       "</div>"
      ],
      "text/plain": [
       "CLASIFICACION_FINAL         0         1\n",
       "INDIGENA                               \n",
       "0                    0.599443  0.400557\n",
       "1                    0.615039  0.384961\n",
       "All                  0.599589  0.400411"
      ]
     },
     "execution_count": 44,
     "metadata": {},
     "output_type": "execute_result"
    }
   ],
   "source": [
    "# frequencies of data\n",
    "pd.crosstab(non_def_indig_spec['INDIGENA'], non_def_indig_spec['CLASIFICACION_FINAL'], margins = True, normalize = 'index')"
   ]
  },
  {
   "cell_type": "code",
   "execution_count": 45,
   "metadata": {},
   "outputs": [
    {
     "name": "stdout",
     "output_type": "stream",
     "text": [
      "37.70870489267315\n",
      "8.213720948138821e-10\n"
     ]
    }
   ],
   "source": [
    "# performed Chi-square test\n",
    "g, p, dof, expctd = scipy.stats.chi2_contingency(\n",
    "    pd.crosstab(non_def_indig_spec['INDIGENA'], non_def_indig_spec['CLASIFICACION_FINAL']))\n",
    "\n",
    "print(g)\n",
    "print(p)"
   ]
  },
  {
   "cell_type": "markdown",
   "metadata": {},
   "source": [
    "I reject the null hypothesis at an alpha level of 0.05. Because the p-value is smaller than the alpha level, I conclude that there is a statistically significant relationship between identifying as indigenous and incidence of COVID. The Chi-square statistic is large, further implicating a statistically significant relationship between identifying as indigenous and incidence of COVID. \n",
    "\n",
    "Indigenous people are underrepresented in the dataset. They only make up 0.94% of the dataset, when they actually make up 20% of Mexico's population."
   ]
  },
  {
   "cell_type": "code",
   "execution_count": 234,
   "metadata": {
    "scrolled": true
   },
   "outputs": [
    {
     "data": {
      "image/png": "[encoded data removed]",
      "text/plain": [
       "<Figure size 432x288 with 1 Axes>"
      ]
     },
     "metadata": {
      "needs_background": "light"
     },
     "output_type": "display_data"
    },
    {
     "data": {
      "text/plain": [
       "<Figure size 432x288 with 0 Axes>"
      ]
     },
     "metadata": {},
     "output_type": "display_data"
    }
   ],
   "source": [
    "ax3 = (pd.crosstab(non_def_indig_spec['CLASIFICACION_FINAL'], non_def_indig_spec['INDIGENA'], normalize = 'columns'\n",
    "            )*100).plot(kind = 'bar', color = ['#7D501B', '#D62F15'])\n",
    "\n",
    "ax3.set_xticks([0, 1])\n",
    "ax3.set_xticklabels(['Negative', 'Positive'], rotation = 'horizontal')\n",
    "ax3.legend(['Not Indigenous', 'Indigenous'], title = 'Identity')\n",
    "ax3.set_xlabel('COVID Status')\n",
    "ax3.set_ylabel('% of Cases Normalized by Identity')\n",
    "ax3.set_ylim([0, 70])\n",
    "ax3.set_title('Non-Definitive COVID Cases in Indigenous & Non-indigeous Mexicans')\n",
    "label_bars_pct(ax3)\n",
    "\n",
    "plt.show()\n",
    "\n",
    "# save figure to use in write up\n",
    "plt.savefig('Non_Def_Indig.png')"
   ]
  },
  {
   "cell_type": "markdown",
   "metadata": {},
   "source": [
    "### Analysis with Definitive Classifications"
   ]
  },
  {
   "cell_type": "code",
   "execution_count": 48,
   "metadata": {},
   "outputs": [
    {
     "data": {
      "text/html": [
       "<div>\n",
       "<style scoped>\n",
       "    .dataframe tbody tr th:only-of-type {\n",
       "        vertical-align: middle;\n",
       "    }\n",
       "\n",
       "    .dataframe tbody tr th {\n",
       "        vertical-align: top;\n",
       "    }\n",
       "\n",
       "    .dataframe thead th {\n",
       "        text-align: right;\n",
       "    }\n",
       "</style>\n",
       "<table border=\"1\" class=\"dataframe\">\n",
       "  <thead>\n",
       "    <tr style=\"text-align: right;\">\n",
       "      <th></th>\n",
       "      <th>INDIGENA</th>\n",
       "      <th>CLASIFICACION_FINAL</th>\n",
       "    </tr>\n",
       "  </thead>\n",
       "  <tbody>\n",
       "    <tr>\n",
       "      <th>0</th>\n",
       "      <td>0</td>\n",
       "      <td>3</td>\n",
       "    </tr>\n",
       "    <tr>\n",
       "      <th>2</th>\n",
       "      <td>0</td>\n",
       "      <td>3</td>\n",
       "    </tr>\n",
       "    <tr>\n",
       "      <th>3</th>\n",
       "      <td>0</td>\n",
       "      <td>3</td>\n",
       "    </tr>\n",
       "    <tr>\n",
       "      <th>4</th>\n",
       "      <td>0</td>\n",
       "      <td>3</td>\n",
       "    </tr>\n",
       "    <tr>\n",
       "      <th>5</th>\n",
       "      <td>0</td>\n",
       "      <td>3</td>\n",
       "    </tr>\n",
       "    <tr>\n",
       "      <th>...</th>\n",
       "      <td>...</td>\n",
       "      <td>...</td>\n",
       "    </tr>\n",
       "    <tr>\n",
       "      <th>4190180</th>\n",
       "      <td>0</td>\n",
       "      <td>7</td>\n",
       "    </tr>\n",
       "    <tr>\n",
       "      <th>4190181</th>\n",
       "      <td>0</td>\n",
       "      <td>3</td>\n",
       "    </tr>\n",
       "    <tr>\n",
       "      <th>4190182</th>\n",
       "      <td>0</td>\n",
       "      <td>7</td>\n",
       "    </tr>\n",
       "    <tr>\n",
       "      <th>4190183</th>\n",
       "      <td>0</td>\n",
       "      <td>1</td>\n",
       "    </tr>\n",
       "    <tr>\n",
       "      <th>4190184</th>\n",
       "      <td>0</td>\n",
       "      <td>7</td>\n",
       "    </tr>\n",
       "  </tbody>\n",
       "</table>\n",
       "<p>4002882 rows × 2 columns</p>\n",
       "</div>"
      ],
      "text/plain": [
       "         INDIGENA  CLASIFICACION_FINAL\n",
       "0               0                    3\n",
       "2               0                    3\n",
       "3               0                    3\n",
       "4               0                    3\n",
       "5               0                    3\n",
       "...           ...                  ...\n",
       "4190180         0                    7\n",
       "4190181         0                    3\n",
       "4190182         0                    7\n",
       "4190183         0                    1\n",
       "4190184         0                    7\n",
       "\n",
       "[4002882 rows x 2 columns]"
      ]
     },
     "execution_count": 48,
     "metadata": {},
     "output_type": "execute_result"
    }
   ],
   "source": [
    "indig_spec"
   ]
  },
  {
   "cell_type": "code",
   "execution_count": 52,
   "metadata": {},
   "outputs": [
    {
     "data": {
      "text/html": [
       "<div>\n",
       "<style scoped>\n",
       "    .dataframe tbody tr th:only-of-type {\n",
       "        vertical-align: middle;\n",
       "    }\n",
       "\n",
       "    .dataframe tbody tr th {\n",
       "        vertical-align: top;\n",
       "    }\n",
       "\n",
       "    .dataframe thead th {\n",
       "        text-align: right;\n",
       "    }\n",
       "</style>\n",
       "<table border=\"1\" class=\"dataframe\">\n",
       "  <thead>\n",
       "    <tr style=\"text-align: right;\">\n",
       "      <th></th>\n",
       "      <th>INDIGENA</th>\n",
       "      <th>CLASIFICACION_FINAL</th>\n",
       "    </tr>\n",
       "  </thead>\n",
       "  <tbody>\n",
       "    <tr>\n",
       "      <th>0</th>\n",
       "      <td>0</td>\n",
       "      <td>3</td>\n",
       "    </tr>\n",
       "    <tr>\n",
       "      <th>2</th>\n",
       "      <td>0</td>\n",
       "      <td>3</td>\n",
       "    </tr>\n",
       "    <tr>\n",
       "      <th>3</th>\n",
       "      <td>0</td>\n",
       "      <td>3</td>\n",
       "    </tr>\n",
       "    <tr>\n",
       "      <th>4</th>\n",
       "      <td>0</td>\n",
       "      <td>3</td>\n",
       "    </tr>\n",
       "    <tr>\n",
       "      <th>5</th>\n",
       "      <td>0</td>\n",
       "      <td>3</td>\n",
       "    </tr>\n",
       "  </tbody>\n",
       "</table>\n",
       "</div>"
      ],
      "text/plain": [
       "   INDIGENA  CLASIFICACION_FINAL\n",
       "0         0                    3\n",
       "2         0                    3\n",
       "3         0                    3\n",
       "4         0                    3\n",
       "5         0                    3"
      ]
     },
     "execution_count": 52,
     "metadata": {},
     "output_type": "execute_result"
    }
   ],
   "source": [
    "# subset to only have definitive classifications\n",
    "def_indig_spec = indig_spec[(indig_spec['CLASIFICACION_FINAL'] == 7) | (indig_spec['CLASIFICACION_FINAL'] == 3)].copy()\n",
    "def_indig_spec.head()"
   ]
  },
  {
   "cell_type": "code",
   "execution_count": 53,
   "metadata": {},
   "outputs": [
    {
     "data": {
      "text/html": [
       "<div>\n",
       "<style scoped>\n",
       "    .dataframe tbody tr th:only-of-type {\n",
       "        vertical-align: middle;\n",
       "    }\n",
       "\n",
       "    .dataframe tbody tr th {\n",
       "        vertical-align: top;\n",
       "    }\n",
       "\n",
       "    .dataframe thead th {\n",
       "        text-align: right;\n",
       "    }\n",
       "</style>\n",
       "<table border=\"1\" class=\"dataframe\">\n",
       "  <thead>\n",
       "    <tr style=\"text-align: right;\">\n",
       "      <th></th>\n",
       "      <th>INDIGENA</th>\n",
       "      <th>CLASIFICACION_FINAL</th>\n",
       "    </tr>\n",
       "  </thead>\n",
       "  <tbody>\n",
       "    <tr>\n",
       "      <th>0</th>\n",
       "      <td>0</td>\n",
       "      <td>1</td>\n",
       "    </tr>\n",
       "    <tr>\n",
       "      <th>2</th>\n",
       "      <td>0</td>\n",
       "      <td>1</td>\n",
       "    </tr>\n",
       "    <tr>\n",
       "      <th>3</th>\n",
       "      <td>0</td>\n",
       "      <td>1</td>\n",
       "    </tr>\n",
       "    <tr>\n",
       "      <th>4</th>\n",
       "      <td>0</td>\n",
       "      <td>1</td>\n",
       "    </tr>\n",
       "    <tr>\n",
       "      <th>5</th>\n",
       "      <td>0</td>\n",
       "      <td>1</td>\n",
       "    </tr>\n",
       "    <tr>\n",
       "      <th>...</th>\n",
       "      <td>...</td>\n",
       "      <td>...</td>\n",
       "    </tr>\n",
       "    <tr>\n",
       "      <th>4190179</th>\n",
       "      <td>0</td>\n",
       "      <td>0</td>\n",
       "    </tr>\n",
       "    <tr>\n",
       "      <th>4190180</th>\n",
       "      <td>0</td>\n",
       "      <td>0</td>\n",
       "    </tr>\n",
       "    <tr>\n",
       "      <th>4190181</th>\n",
       "      <td>0</td>\n",
       "      <td>1</td>\n",
       "    </tr>\n",
       "    <tr>\n",
       "      <th>4190182</th>\n",
       "      <td>0</td>\n",
       "      <td>0</td>\n",
       "    </tr>\n",
       "    <tr>\n",
       "      <th>4190184</th>\n",
       "      <td>0</td>\n",
       "      <td>0</td>\n",
       "    </tr>\n",
       "  </tbody>\n",
       "</table>\n",
       "<p>3527890 rows × 2 columns</p>\n",
       "</div>"
      ],
      "text/plain": [
       "         INDIGENA  CLASIFICACION_FINAL\n",
       "0               0                    1\n",
       "2               0                    1\n",
       "3               0                    1\n",
       "4               0                    1\n",
       "5               0                    1\n",
       "...           ...                  ...\n",
       "4190179         0                    0\n",
       "4190180         0                    0\n",
       "4190181         0                    1\n",
       "4190182         0                    0\n",
       "4190184         0                    0\n",
       "\n",
       "[3527890 rows x 2 columns]"
      ]
     },
     "execution_count": 53,
     "metadata": {},
     "output_type": "execute_result"
    }
   ],
   "source": [
    "# apply function that makes data tidy\n",
    "def_indig_spec['CLASIFICACION_FINAL'] = def_indig_spec['CLASIFICACION_FINAL'].apply(fix_classification)\n",
    "def_indig_spec"
   ]
  },
  {
   "cell_type": "markdown",
   "metadata": {},
   "source": [
    "$H_o$ : There is no relationship between COVID incidence and identifying as indigenous.\n",
    "\n",
    "$H_a$ : There is a relationship between COVID incidence and identifying as indigenous."
   ]
  },
  {
   "cell_type": "code",
   "execution_count": 54,
   "metadata": {},
   "outputs": [
    {
     "data": {
      "text/html": [
       "<div>\n",
       "<style scoped>\n",
       "    .dataframe tbody tr th:only-of-type {\n",
       "        vertical-align: middle;\n",
       "    }\n",
       "\n",
       "    .dataframe tbody tr th {\n",
       "        vertical-align: top;\n",
       "    }\n",
       "\n",
       "    .dataframe thead th {\n",
       "        text-align: right;\n",
       "    }\n",
       "</style>\n",
       "<table border=\"1\" class=\"dataframe\">\n",
       "  <thead>\n",
       "    <tr style=\"text-align: right;\">\n",
       "      <th>CLASIFICACION_FINAL</th>\n",
       "      <th>0</th>\n",
       "      <th>1</th>\n",
       "    </tr>\n",
       "    <tr>\n",
       "      <th>INDIGENA</th>\n",
       "      <th></th>\n",
       "      <th></th>\n",
       "    </tr>\n",
       "  </thead>\n",
       "  <tbody>\n",
       "    <tr>\n",
       "      <th>0</th>\n",
       "      <td>56.544279</td>\n",
       "      <td>43.455721</td>\n",
       "    </tr>\n",
       "    <tr>\n",
       "      <th>1</th>\n",
       "      <td>55.959941</td>\n",
       "      <td>44.040059</td>\n",
       "    </tr>\n",
       "    <tr>\n",
       "      <th>All</th>\n",
       "      <td>56.539036</td>\n",
       "      <td>43.460964</td>\n",
       "    </tr>\n",
       "  </tbody>\n",
       "</table>\n",
       "</div>"
      ],
      "text/plain": [
       "CLASIFICACION_FINAL          0          1\n",
       "INDIGENA                                 \n",
       "0                    56.544279  43.455721\n",
       "1                    55.959941  44.040059\n",
       "All                  56.539036  43.460964"
      ]
     },
     "execution_count": 54,
     "metadata": {},
     "output_type": "execute_result"
    }
   ],
   "source": [
    "# percent of frequencies of data\n",
    "pd.crosstab(def_indig_spec['INDIGENA'], def_indig_spec['CLASIFICACION_FINAL'], margins = True, normalize = 'index') * 100"
   ]
  },
  {
   "cell_type": "code",
   "execution_count": 55,
   "metadata": {
    "scrolled": true
   },
   "outputs": [
    {
     "name": "stdout",
     "output_type": "stream",
     "text": [
      "4.3351996623620614\n",
      "0.03733203715451812\n"
     ]
    }
   ],
   "source": [
    "# performed Chi-square test\n",
    "g, p, dof, expctd = scipy.stats.chi2_contingency(\n",
    "    pd.crosstab(def_indig_spec['INDIGENA'], def_indig_spec['CLASIFICACION_FINAL']))\n",
    "\n",
    "print(g)\n",
    "print(p)"
   ]
  },
  {
   "cell_type": "markdown",
   "metadata": {},
   "source": [
    "I reject the null hypothesis. Therefore, at the alpha level of 0.05, I conclude that there is a statistically significant relationship between being indigenous and COVID incidence in Mexico. The p-value smaller than the alpha level and a large Chi-square statistic implicate a relationship between identifying as indigenous and incidence of COVID."
   ]
  },
  {
   "cell_type": "code",
   "execution_count": 235,
   "metadata": {},
   "outputs": [
    {
     "data": {
      "image/png": "[encoded data removed]",
      "text/plain": [
       "<Figure size 504x360 with 1 Axes>"
      ]
     },
     "metadata": {
      "needs_background": "light"
     },
     "output_type": "display_data"
    },
    {
     "data": {
      "text/plain": [
       "<Figure size 432x288 with 0 Axes>"
      ]
     },
     "metadata": {},
     "output_type": "display_data"
    }
   ],
   "source": [
    "# Visualize the data with only the definitive classifications\n",
    "ax4 = (pd.crosstab(def_indig_spec['CLASIFICACION_FINAL'], def_indig_spec['INDIGENA'], normalize = 'columns'\n",
    "                  )*100).plot(kind = 'bar', figsize = (7, 5), color = ['#7D501B', '#D62F15'])\n",
    "\n",
    "ax4.set_xticks([0, 1])\n",
    "ax4.set_xticklabels(['Negative', 'Positive'], rotation = 'horizontal')\n",
    "ax4.legend(['Not Indigenous', 'Indigenous'], title = 'Identity')\n",
    "ax4.set_xlabel('COVID Status')\n",
    "ax4.set_ylabel('% of Cases Normalized by Identity')\n",
    "ax4.set_ylim([0, 60])\n",
    "ax4.set_title('Definitive COVID Cases in Indigenous & Non-indigeous Mexicans')\n",
    "\n",
    "label_bars_pct(ax4)\n",
    "\n",
    "plt.show()\n",
    "\n",
    "# save figure to use in write up\n",
    "plt.savefig('Def_Indig.png')"
   ]
  },
  {
   "cell_type": "code",
   "execution_count": null,
   "metadata": {},
   "outputs": [],
   "source": []
  }
 ],
 "metadata": {
  "kernelspec": {
   "display_name": "venv",
   "language": "python",
   "name": "venv"
  },
  "language_info": {
   "codemirror_mode": {
    "name": "ipython",
    "version": 3
   },
   "file_extension": ".py",
   "mimetype": "text/x-python",
   "name": "python",
   "nbconvert_exporter": "python",
   "pygments_lexer": "ipython3",
   "version": "3.8.6"
  }
 },
 "nbformat": 4,
 "nbformat_minor": 4
}
